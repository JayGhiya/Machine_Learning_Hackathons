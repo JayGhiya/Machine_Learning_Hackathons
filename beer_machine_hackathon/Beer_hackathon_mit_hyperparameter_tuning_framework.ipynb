{
 "cells": [
  {
   "cell_type": "code",
   "execution_count": null,
   "metadata": {},
   "outputs": [],
   "source": [
    "!pip install pandas"
   ]
  },
  {
   "cell_type": "code",
   "execution_count": 89,
   "metadata": {},
   "outputs": [
    {
     "name": "stdout",
     "output_type": "stream",
     "text": [
      "Requirement already satisfied: xgboost in /home/bumblebee/anaconda3/lib/python3.6/site-packages (0.80)\n",
      "Requirement already satisfied: scipy in /home/bumblebee/anaconda3/lib/python3.6/site-packages (from xgboost) (1.1.0)\n",
      "Requirement already satisfied: numpy in /home/bumblebee/anaconda3/lib/python3.6/site-packages (from xgboost) (1.14.3)\n",
      "\u001b[33mYou are using pip version 18.0, however version 18.1 is available.\n",
      "You should consider upgrading via the 'pip install --upgrade pip' command.\u001b[0m\n"
     ]
    }
   ],
   "source": [
    "!pip3 install xgboost"
   ]
  },
  {
   "cell_type": "code",
   "execution_count": 92,
   "metadata": {},
   "outputs": [
    {
     "name": "stdout",
     "output_type": "stream",
     "text": [
      "Collecting pip\n",
      "\u001b[?25l  Downloading https://files.pythonhosted.org/packages/c2/d7/90f34cb0d83a6c5631cf71dfe64cc1054598c843a92b400e55675cc2ac37/pip-18.1-py2.py3-none-any.whl (1.3MB)\n",
      "\u001b[K    100% |████████████████████████████████| 1.3MB 5.0MB/s eta 0:00:01\n",
      "\u001b[?25hInstalling collected packages: pip\n",
      "  Found existing installation: pip 18.0\n",
      "    Uninstalling pip-18.0:\n",
      "      Successfully uninstalled pip-18.0\n",
      "Successfully installed pip-18.1\n"
     ]
    }
   ],
   "source": [
    "!pip install --upgrade pip"
   ]
  },
  {
   "cell_type": "code",
   "execution_count": null,
   "metadata": {},
   "outputs": [],
   "source": [
    "!pip install --upgrade pip"
   ]
  },
  {
   "cell_type": "code",
   "execution_count": null,
   "metadata": {},
   "outputs": [],
   "source": [
    "!pip install msgpack"
   ]
  },
  {
   "cell_type": "code",
   "execution_count": null,
   "metadata": {},
   "outputs": [],
   "source": [
    "!pip install xgboost"
   ]
  },
  {
   "cell_type": "code",
   "execution_count": null,
   "metadata": {},
   "outputs": [],
   "source": [
    "!pip install hyperopt"
   ]
  },
  {
   "cell_type": "code",
   "execution_count": 93,
   "metadata": {},
   "outputs": [],
   "source": [
    "import pandas as pd\n",
    "import numpy as np\n",
    "import matplotlib.pyplot as plt\n",
    "from sklearn.utils import shuffle\n",
    "from sklearn.model_selection import train_test_split\n",
    "import xgboost as xgb\n",
    "from hyperopt import STATUS_OK, Trials, fmin, hp, tpe\n",
    "import math\n",
    "from sklearn.metrics import mean_squared_error\n",
    "import time"
   ]
  },
  {
   "cell_type": "code",
   "execution_count": 2,
   "metadata": {},
   "outputs": [],
   "source": [
    "%matplotlib inline"
   ]
  },
  {
   "cell_type": "code",
   "execution_count": 3,
   "metadata": {},
   "outputs": [
    {
     "name": "stdout",
     "output_type": "stream",
     "text": [
      "Beer_hackathon.ipynb  Beer\\ Test\\ Data\\ Set.csv  Beer\\ Train\\ Data\\ Set.csv\r\n"
     ]
    }
   ],
   "source": [
    "!dir"
   ]
  },
  {
   "cell_type": "code",
   "execution_count": 3,
   "metadata": {},
   "outputs": [],
   "source": [
    "train_Data = pd.read_csv(\"Beer Train Data Set.csv\")"
   ]
  },
  {
   "cell_type": "code",
   "execution_count": 4,
   "metadata": {},
   "outputs": [
    {
     "name": "stdout",
     "output_type": "stream",
     "text": [
      "['ABV' 'Brewing Company' 'Food Paring' 'Glassware Used' 'Beer Name'\n",
      " 'Ratings' 'Style Name' 'Cellar Temperature' 'Serving Temperature' 'Score']\n"
     ]
    }
   ],
   "source": [
    "print(train_Data.columns.values)"
   ]
  },
  {
   "cell_type": "code",
   "execution_count": 5,
   "metadata": {},
   "outputs": [],
   "source": [
    "space = {\n",
    "        'n_estimators': hp.uniform('n_estimators', 100, 1000),\n",
    "        'eta': hp.quniform('eta', 0.025, 0.5, 0.025),\n",
    "        # A problem with max_depth casted to float instead of int with\n",
    "        # the hp.quniform method.\n",
    "        'max_depth':  hp.choice('max_depth', np.arange(1, 60, dtype=int)),\n",
    "        'min_child_weight': hp.quniform('min_child_weight', 1, 6, 1),\n",
    "        'subsample': hp.quniform('subsample', 0.5, 1, 0.05),\n",
    "        'gamma': hp.quniform('gamma', 0.5, 1, 0.05),\n",
    "        'colsample_bytree': hp.quniform('colsample_bytree', 0.5, 1, 0.05),\n",
    "        # Increase this number if you have more cores. Otherwise, remove it and it will default\n",
    "        # to the maxium number.\n",
    "        'nthread': 4,\n",
    "        \"xg_reg_alpha\": hp.loguniform('xg_reg_alpha',1e-9,1.0),\n",
    "        \"xg_reg_lambda\":hp.loguniform('xg_reg_lambda',1e-9,1)\n",
    "\n",
    "    }"
   ]
  },
  {
   "cell_type": "code",
   "execution_count": null,
   "metadata": {},
   "outputs": [],
   "source": [
    "#writing a function which returns unique values for a particular column\n",
    "def get_unique_value_counts(dataframe,feature_name):\n",
    "    unique_values = len(dataframe[feature_name].unique())\n",
    "    return unique_value_count\n",
    "    \n"
   ]
  },
  {
   "cell_type": "code",
   "execution_count": 6,
   "metadata": {},
   "outputs": [
    {
     "name": "stdout",
     "output_type": "stream",
     "text": [
      "94\n"
     ]
    }
   ],
   "source": [
    "#unique_v_counts_features = [\"Style Name\",\"Brewing Company\",\"\"]\n",
    "print(len(train_Data[\"Style Name\"].unique()))"
   ]
  },
  {
   "cell_type": "markdown",
   "metadata": {},
   "source": [
    "Find a way to encode beer style name."
   ]
  },
  {
   "cell_type": "code",
   "execution_count": 7,
   "metadata": {},
   "outputs": [
    {
     "data": {
      "text/plain": [
       "AmericanIPA                      25577\n",
       "AmericanPaleAle(APA)             12648\n",
       "AmericanPorter                   11992\n",
       "AmericanDoubleImperialIPA        10147\n",
       "SaisonFarmhouseAle                8982\n",
       "AmericanAmberRedAle               5924\n",
       "AmericanWildAle                   5523\n",
       "AmericanDoubleImperialStout       5125\n",
       "AmericanStout                     4911\n",
       "AmericanBlondeAle                 4234\n",
       "FruitVegetableBeer                4088\n",
       "AmericanBrownAle                  3958\n",
       "Hefeweizen                        3670\n",
       "Witbier                           3265\n",
       "GermanPilsener                    2955\n",
       "BelgianPaleAle                    2909\n",
       "EuroPaleLager                     2444\n",
       "BerlinerWeissbier                 2376\n",
       "AmericanBlackAle                  2255\n",
       "MrzenOktoberfest                  2214\n",
       "EnglishPaleAle                    2176\n",
       "EnglishBitter                     2164\n",
       "AmericanPaleLager                 2160\n",
       "Tripel                            1987\n",
       "Klsch                             1888\n",
       "CzechPilsener                     1778\n",
       "Gose                              1681\n",
       "HerbedSpicedBeer                  1578\n",
       "CreamAle                          1452\n",
       "EnglishIndiaPaleAle(IPA)          1451\n",
       "                                 ...  \n",
       "AmericanAmberRedLager              608\n",
       "EuroDarkLager                      590\n",
       "Weizenbock                         517\n",
       "CaliforniaCommonSteamBeer          507\n",
       "LowAlcoholBeer                     438\n",
       "DortmunderExportLager              431\n",
       "Lambic-Fruit                       397\n",
       "Rauchbier                          394\n",
       "ChileBeer                          365\n",
       "AmericanDoubleImperialPilsner      334\n",
       "EnglishPaleMildAle                 331\n",
       "FlandersRedAle                     328\n",
       "FlandersOudBruin                   266\n",
       "AmericanMaltLiquor                 247\n",
       "ScottishGruitAncientHerbedAle      240\n",
       "Wheatwine                          219\n",
       "Roggenbier                         195\n",
       "Kvass                              193\n",
       "AmericanDarkWheatAle               179\n",
       "Braggot                            167\n",
       "Kristalweizen                      161\n",
       "Gueuze                             104\n",
       "Lambic-Unblended                    93\n",
       "JapaneseRiceLager                   89\n",
       "Eisbock                             75\n",
       "BlackTan                            69\n",
       "Sahti                               68\n",
       "Happoshu                            58\n",
       "BiredeChampagneBireBrut             51\n",
       "Faro                                18\n",
       "Name: Style Name, Length: 94, dtype: int64"
      ]
     },
     "execution_count": 7,
     "metadata": {},
     "output_type": "execute_result"
    }
   ],
   "source": [
    "train_Data[\"Style Name\"].value_counts()"
   ]
  },
  {
   "cell_type": "code",
   "execution_count": 8,
   "metadata": {},
   "outputs": [
    {
     "data": {
      "text/plain": [
       "ABV                    15130\n",
       "Brewing Company            0\n",
       "Food Paring                0\n",
       "Glassware Used             0\n",
       "Beer Name                  0\n",
       "Ratings                    0\n",
       "Style Name                 0\n",
       "Cellar Temperature      6781\n",
       "Serving Temperature      193\n",
       "Score                      0\n",
       "dtype: int64"
      ]
     },
     "execution_count": 8,
     "metadata": {},
     "output_type": "execute_result"
    }
   ],
   "source": [
    "train_Data.isna().sum()"
   ]
  },
  {
   "cell_type": "code",
   "execution_count": 9,
   "metadata": {},
   "outputs": [],
   "source": [
    "food_pairing_unique_list = (train_Data[\"Food Paring\"].unique())"
   ]
  },
  {
   "cell_type": "code",
   "execution_count": 10,
   "metadata": {},
   "outputs": [
    {
     "name": "stdout",
     "output_type": "stream",
     "text": [
      "13541\n"
     ]
    }
   ],
   "source": [
    "print(train_Data[\"Brewing Company\"].max())"
   ]
  },
  {
   "cell_type": "code",
   "execution_count": 11,
   "metadata": {},
   "outputs": [],
   "source": [
    "train_Data = shuffle(train_Data, random_state=2)"
   ]
  },
  {
   "cell_type": "code",
   "execution_count": 12,
   "metadata": {},
   "outputs": [],
   "source": [
    "train_Data.reset_index(drop=True,inplace=True)"
   ]
  },
  {
   "cell_type": "code",
   "execution_count": 13,
   "metadata": {},
   "outputs": [],
   "source": [
    "#train_Data.drop(labels=[\"Cellar Temperature\"],inplace=True,axis=1)"
   ]
  },
  {
   "cell_type": "code",
   "execution_count": 14,
   "metadata": {},
   "outputs": [
    {
     "name": "stdout",
     "output_type": "stream",
     "text": [
      "6.354960736131313\n"
     ]
    }
   ],
   "source": [
    "#handle ABV\n",
    "mean_abv = train_Data[\"ABV\"].mean()\n",
    "\n",
    "print(mean_abv)\n",
    "\n",
    "train_Data[\"ABV\"].fillna(mean_abv, inplace=True)"
   ]
  },
  {
   "cell_type": "code",
   "execution_count": 15,
   "metadata": {},
   "outputs": [
    {
     "data": {
      "text/plain": [
       "'40-45'"
      ]
     },
     "execution_count": 15,
     "metadata": {},
     "output_type": "execute_result"
    }
   ],
   "source": [
    "(train_Data[\"Cellar Temperature\"].value_counts().index)[0]"
   ]
  },
  {
   "cell_type": "code",
   "execution_count": 16,
   "metadata": {},
   "outputs": [],
   "source": [
    "train_Data[\"Cellar Temperature\"].fillna((train_Data[\"Cellar Temperature\"].value_counts().index)[0],inplace=True)"
   ]
  },
  {
   "cell_type": "code",
   "execution_count": 49,
   "metadata": {},
   "outputs": [
    {
     "data": {
      "text/plain": [
       "'45-50'"
      ]
     },
     "execution_count": 49,
     "metadata": {},
     "output_type": "execute_result"
    }
   ],
   "source": [
    "(train_Data[\"Serving Temperature\"].value_counts().index)[0]"
   ]
  },
  {
   "cell_type": "code",
   "execution_count": 50,
   "metadata": {},
   "outputs": [],
   "source": [
    "train_Data[\"Serving Temperature\"].fillna((train_Data[\"Cellar Temperature\"].value_counts().index)[0],inplace=True)"
   ]
  },
  {
   "cell_type": "code",
   "execution_count": 17,
   "metadata": {},
   "outputs": [],
   "source": [
    "#converting into float from string\n",
    "train_Data[\"Ratings\"] = train_Data['Ratings'].str.replace(',', '')\n",
    "train_Data[\"Ratings\"] = train_Data['Ratings'].astype(np.float64)"
   ]
  },
  {
   "cell_type": "code",
   "execution_count": 18,
   "metadata": {},
   "outputs": [],
   "source": [
    "cellar_temp_dataframe = pd.get_dummies(train_Data[\"Cellar Temperature\"])"
   ]
  },
  {
   "cell_type": "code",
   "execution_count": 51,
   "metadata": {},
   "outputs": [],
   "source": [
    "serving_temp_dataframe = pd.get_dummies(train_Data[\"Serving Temperature\"])"
   ]
  },
  {
   "cell_type": "code",
   "execution_count": 59,
   "metadata": {},
   "outputs": [],
   "source": [
    "serving_temp_dataframe.rename(columns={\"35-40\": \"s_t1\", \"40-45\": \"s_t2\",\"45-50\":\"s_t3\",\"50-55\":\"s_t4\"},inplace=True)"
   ]
  },
  {
   "cell_type": "code",
   "execution_count": 60,
   "metadata": {},
   "outputs": [],
   "source": [
    "serving_temp_dataframe.reset_index(drop=True,inplace=True)"
   ]
  },
  {
   "cell_type": "code",
   "execution_count": 61,
   "metadata": {},
   "outputs": [],
   "source": [
    "cellar_temp_dataframe.reset_index(drop=True,inplace=True)"
   ]
  },
  {
   "cell_type": "code",
   "execution_count": 62,
   "metadata": {},
   "outputs": [
    {
     "name": "stdout",
     "output_type": "stream",
     "text": [
      "   35-40  40-45  45-50\n",
      "0      1      0      0\n",
      "1      1      0      0\n",
      "2      0      0      1\n",
      "3      0      0      1\n",
      "4      0      1      0\n"
     ]
    }
   ],
   "source": [
    "print(cellar_temp_dataframe.head(n=5))"
   ]
  },
  {
   "cell_type": "code",
   "execution_count": 21,
   "metadata": {},
   "outputs": [],
   "source": [
    "#as of now not taking serving temperature as a input\n",
    "#train_Data_Wo_Serving_Null = train_Data[train_Data[\"Serving Temperature\"].notnull()]"
   ]
  },
  {
   "cell_type": "code",
   "execution_count": 63,
   "metadata": {
    "scrolled": true
   },
   "outputs": [
    {
     "data": {
      "text/plain": [
       "ABV                    0\n",
       "Brewing Company        0\n",
       "Food Paring            0\n",
       "Glassware Used         0\n",
       "Beer Name              0\n",
       "Ratings                0\n",
       "Style Name             0\n",
       "Cellar Temperature     0\n",
       "Serving Temperature    0\n",
       "Score                  0\n",
       "dtype: int64"
      ]
     },
     "execution_count": 63,
     "metadata": {},
     "output_type": "execute_result"
    }
   ],
   "source": [
    "train_Data.isna().sum()"
   ]
  },
  {
   "cell_type": "code",
   "execution_count": 64,
   "metadata": {},
   "outputs": [],
   "source": [
    "#generic function for doing target based en\n",
    "\n",
    "def get_target_based_encoding(dataframe,feature_to_encode,target_feature):\n",
    "    \n",
    "    unique_feature_values = dataframe[feature_to_encode].unique()\n",
    "    \n",
    "    dict_category_value = {}\n",
    "    \n",
    "    for each_category in unique_feature_values:\n",
    "        target_based_category_value = dataframe[ dataframe[feature_to_encode] == each_category] [target_feature]\n",
    "        dict_category_value[each_category] = target_based_category_value.sum() / len(target_based_category_value)\n",
    "    \n",
    "    dataframe[feature_to_encode].replace(to_replace=dict_category_value,inplace=True)\n",
    "        \n",
    "        \n",
    "    \n"
   ]
  },
  {
   "cell_type": "code",
   "execution_count": 65,
   "metadata": {},
   "outputs": [],
   "source": [
    "get_target_based_encoding(train_Data,\"Style Name\",\"Score\")"
   ]
  },
  {
   "cell_type": "code",
   "execution_count": 66,
   "metadata": {},
   "outputs": [],
   "source": [
    "get_target_based_encoding(train_Data,\"Food Paring\",\"Score\")"
   ]
  },
  {
   "cell_type": "code",
   "execution_count": 67,
   "metadata": {},
   "outputs": [],
   "source": [
    "get_target_based_encoding(train_Data,\"Glassware Used\",\"Score\")"
   ]
  },
  {
   "cell_type": "code",
   "execution_count": 68,
   "metadata": {},
   "outputs": [],
   "source": [
    "get_target_based_encoding(train_Data,\"Brewing Company\",\"Score\")"
   ]
  },
  {
   "cell_type": "code",
   "execution_count": 69,
   "metadata": {},
   "outputs": [
    {
     "name": "stdout",
     "output_type": "stream",
     "text": [
      "ABV                    0\n",
      "Brewing Company        0\n",
      "Food Paring            0\n",
      "Glassware Used         0\n",
      "Beer Name              0\n",
      "Ratings                0\n",
      "Style Name             0\n",
      "Cellar Temperature     0\n",
      "Serving Temperature    0\n",
      "Score                  0\n",
      "dtype: int64\n"
     ]
    }
   ],
   "source": [
    "print(train_Data.isna().sum())"
   ]
  },
  {
   "cell_type": "code",
   "execution_count": 70,
   "metadata": {},
   "outputs": [],
   "source": [
    "final_df = pd.concat([train_Data,cellar_temp_dataframe,serving_temp_dataframe],axis=1)"
   ]
  },
  {
   "cell_type": "code",
   "execution_count": 71,
   "metadata": {},
   "outputs": [
    {
     "name": "stdout",
     "output_type": "stream",
     "text": [
      "ABV                    0\n",
      "Brewing Company        0\n",
      "Food Paring            0\n",
      "Glassware Used         0\n",
      "Beer Name              0\n",
      "Ratings                0\n",
      "Style Name             0\n",
      "Cellar Temperature     0\n",
      "Serving Temperature    0\n",
      "Score                  0\n",
      "35-40                  0\n",
      "40-45                  0\n",
      "45-50                  0\n",
      "s_t1                   0\n",
      "s_t2                   0\n",
      "s_t3                   0\n",
      "s_t4                   0\n",
      "dtype: int64\n"
     ]
    }
   ],
   "source": [
    "print(final_df.isna().sum())"
   ]
  },
  {
   "cell_type": "code",
   "execution_count": 72,
   "metadata": {},
   "outputs": [
    {
     "name": "stdout",
     "output_type": "stream",
     "text": [
      "ABV                    float64\n",
      "Brewing Company        float64\n",
      "Food Paring            float64\n",
      "Glassware Used         float64\n",
      "Beer Name                int64\n",
      "Ratings                float64\n",
      "Style Name             float64\n",
      "Cellar Temperature      object\n",
      "Serving Temperature     object\n",
      "Score                  float64\n",
      "35-40                    uint8\n",
      "40-45                    uint8\n",
      "45-50                    uint8\n",
      "s_t1                     uint8\n",
      "s_t2                     uint8\n",
      "s_t3                     uint8\n",
      "s_t4                     uint8\n",
      "dtype: object\n"
     ]
    }
   ],
   "source": [
    "print(final_df.dtypes)"
   ]
  },
  {
   "cell_type": "code",
   "execution_count": 73,
   "metadata": {},
   "outputs": [
    {
     "name": "stdout",
     "output_type": "stream",
     "text": [
      "   Food Paring  Style Name  c_t1  c_t2  c_t3        ABV  Ratings\n",
      "0     3.174928    3.174928     1     0     0   6.000000      4.0\n",
      "1     2.965526    2.965526     1     0     0   5.800000      3.0\n",
      "2     3.304736    3.304736     0     0     1  10.000000      1.0\n",
      "3     3.674808    3.674808     0     0     1   6.000000   1016.0\n",
      "4     3.256399    3.256399     0     1     0   8.500000     33.0\n",
      "5     2.990949    2.990949     0     1     0   6.354961      1.0\n",
      "6     3.495354    3.495354     0     1     0   6.354961      1.0\n",
      "7     3.160955    3.160955     0     0     1   6.700000     13.0\n",
      "8     3.174928    3.174928     1     0     0   6.200000      0.0\n",
      "9     3.067656    3.067656     0     1     0   5.500000      3.0\n"
     ]
    }
   ],
   "source": [
    "final_df.rename(columns={\"35-40\": \"c_t1\", \"40-45\": \"c_t2\",\"45-50\":\"c_t3\"},inplace=True)\n",
    "print(final_df[[\"Food Paring\",\"Style Name\",\"c_t1\", \"c_t2\",\n",
    " \"c_t3\",\"ABV\",\"Ratings\"]].head(n=10))\n"
   ]
  },
  {
   "cell_type": "code",
   "execution_count": 82,
   "metadata": {},
   "outputs": [],
   "source": [
    "#columns_to_train = [\"ABV\",\"Brewing Company\",\"Ratings\",\"Style Name\",\"Food Paring\",\"Glassware Used\",\"c_t1\", \"c_t2\",\n",
    "# \"c_t3\",\"s_t1\",\"s_t2\",\"s_t3\"]\n",
    "columns_to_train = [\"ABV\",\"Brewing Company\",\"Ratings\",\"Style Name\",\"Food Paring\",\"Glassware Used\"]\n",
    "\n",
    "X_train, X_validtn, y_train, y_validtn = train_test_split(final_df[columns_to_train], final_df[\"Score\"], test_size=0.2,\n",
    "                                                          random_state=1)\n"
   ]
  },
  {
   "cell_type": "code",
   "execution_count": 83,
   "metadata": {},
   "outputs": [
    {
     "name": "stdout",
     "output_type": "stream",
     "text": [
      "ABV                0\n",
      "Brewing Company    0\n",
      "Ratings            0\n",
      "Style Name         0\n",
      "Food Paring        0\n",
      "Glassware Used     0\n",
      "dtype: int64\n"
     ]
    }
   ],
   "source": [
    "print(X_train.isna().sum())"
   ]
  },
  {
   "cell_type": "code",
   "execution_count": 76,
   "metadata": {},
   "outputs": [
    {
     "name": "stdout",
     "output_type": "stream",
     "text": [
      "110550    3.89\n",
      "23028     4.32\n",
      "38859     3.60\n",
      "120251    2.61\n",
      "177166    3.44\n",
      "Name: Score, dtype: float64\n"
     ]
    }
   ],
   "source": [
    "print(y_train.head(n=5))"
   ]
  },
  {
   "cell_type": "markdown",
   "metadata": {},
   "source": [
    "Number of Estimators -> \n"
   ]
  },
  {
   "cell_type": "code",
   "execution_count": 84,
   "metadata": {},
   "outputs": [],
   "source": [
    "xg_model = xgb(n_estimators=824, learning_rate=0.021239072071744414, n_jobs=-1,\n",
    "                            max_depth=9, gamma=0.75, colsample_bytree=1.0,\n",
    "                            min_child_weight=0.05e-08, reg_alpha=1.9798664109330988, subsample=0.5,\n",
    "                            reg_lambda=2.227046501581624,eta=0.2\n",
    "                            )"
   ]
  },
  {
   "cell_type": "code",
   "execution_count": 85,
   "metadata": {},
   "outputs": [
    {
     "data": {
      "text/plain": [
       "XGBRegressor(base_score=0.5, booster='gbtree', colsample_bylevel=1,\n",
       "       colsample_bytree=1.0, eta=0.2, gamma=0.75,\n",
       "       learning_rate=0.021239072071744414, max_delta_step=0, max_depth=9,\n",
       "       min_child_weight=5e-10, missing=None, n_estimators=824, n_jobs=-1,\n",
       "       nthread=None, objective='reg:linear', random_state=0,\n",
       "       reg_alpha=1.9798664109330988, reg_lambda=2.227046501581624,\n",
       "       scale_pos_weight=1, seed=None, silent=True, subsample=0.5)"
      ]
     },
     "execution_count": 85,
     "metadata": {},
     "output_type": "execute_result"
    }
   ],
   "source": [
    "xg_model.fit(X_train.values, y_train.values)\n"
   ]
  },
  {
   "cell_type": "raw",
   "metadata": {},
   "source": [
    "training_values = xg_model.predict(X_train.values)\n",
    "print(training_values)\n",
    "training_rmse = math.sqrt(mean_squared_error(y_train, training_values))\n",
    "print(\"training_rmse\", training_rmse)\n",
    "validation_values = xg_model.predict(X_validtn.values)\n",
    "validation_rmse = math.sqrt(mean_squared_error(y_validtn, validation_values))\n",
    "print(\"validation_rmse\", validation_rmse)"
   ]
  },
  {
   "cell_type": "code",
   "execution_count": 87,
   "metadata": {},
   "outputs": [
    {
     "name": "stdout",
     "output_type": "stream",
     "text": [
      "['ABV' 'Brewing Company' 'Ratings' 'Style Name' 'Food Paring'\n",
      " 'Glassware Used']\n"
     ]
    }
   ],
   "source": [
    "print(X_train.columns.values)"
   ]
  },
  {
   "cell_type": "markdown",
   "metadata": {},
   "source": [
    "FEATURE IMPORTANCE"
   ]
  },
  {
   "cell_type": "code",
   "execution_count": 88,
   "metadata": {
    "scrolled": false
   },
   "outputs": [
    {
     "name": "stdout",
     "output_type": "stream",
     "text": [
      "[0.17265452 0.4482377  0.11910438 0.12740508 0.05303933 0.079559  ]\n"
     ]
    },
    {
     "data": {
      "image/png": "[encoded data removed]",
      "text/plain": [
       "<Figure size 432x288 with 1 Axes>"
      ]
     },
     "metadata": {},
     "output_type": "display_data"
    }
   ],
   "source": [
    "print(xg_model.feature_importances_)\n",
    "# plot\n",
    "plt.bar(range(len(xg_model.feature_importances_)), xg_model.feature_importances_)\n",
    "plt.show()"
   ]
  },
  {
   "cell_type": "code",
   "execution_count": 46,
   "metadata": {},
   "outputs": [],
   "source": [
    "def train_xg_boost(params):\n",
    "\n",
    "    \n",
    "    xg_model = XGBRegressor(n_estimators=int(params['n_estimators']), learning_rate=params['eta'], n_jobs=-1,\n",
    "                            max_depth=int(params['max_depth']), gamma=params['gamma'], colsample_bytree=params['colsample_bytree'],\n",
    "                            min_child_weight=params['min_child_weight'], reg_alpha=params['xg_reg_alpha'], subsample=params['subsample'],\n",
    "                            reg_lambda=params['xg_reg_lambda']\n",
    "                            )\n",
    "    \n",
    "    \n",
    "    print(\"hyperparameters\",params)\n",
    "    # In[ ]:\n",
    "\n",
    "    xg_model.fit(X_train.values, y_train.values)\n",
    "\n",
    "    # In[68]:\n",
    "\n",
    "    training_values = xg_model.predict(X_train.values)\n",
    "    print(training_values)\n",
    "        \n",
    "    training_rmse = math.sqrt(mean_squared_error(y_train, training_values))\n",
    "    \n",
    "    print(\"training_rmse\", training_rmse)\n",
    "    validation_values = xg_model.predict(X_validtn.values)\n",
    "    validation_rmse = math.sqrt(mean_squared_error(y_validtn, validation_values))\n",
    "    print(\"validation_rmse\", validation_rmse)\n",
    "\n",
    "    return {'loss': validation_rmse,\n",
    "        'status': STATUS_OK,\n",
    "        'eval_time': time.time(),\n",
    "        }\n",
    "\n",
    "\n",
    "\n"
   ]
  },
  {
   "cell_type": "code",
   "execution_count": 47,
   "metadata": {},
   "outputs": [],
   "source": [
    "trials = Trials()"
   ]
  },
  {
   "cell_type": "code",
   "execution_count": 48,
   "metadata": {
    "scrolled": true
   },
   "outputs": [
    {
     "name": "stdout",
     "output_type": "stream",
     "text": [
      "hyperparameters {'colsample_bytree': 0.65, 'eta': 0.225, 'gamma': 0.9, 'max_depth': 23, 'min_child_weight': 5.0, 'n_estimators': 619.2851112447337, 'nthread': 4, 'subsample': 0.8500000000000001, 'xg_reg_alpha': 2.5394229540700293, 'xg_reg_lambda': 1.096490424649413}\n",
      "[3.458109  4.043931  3.716856  ... 3.6626444 4.121209  4.1531   ]\n",
      "training_rmse 0.3023773217761993\n",
      "validation_rmse 0.32327219499451565\n",
      "hyperparameters {'colsample_bytree': 0.7000000000000001, 'eta': 0.17500000000000002, 'gamma': 1.0, 'max_depth': 21, 'min_child_weight': 2.0, 'n_estimators': 494.28378768282244, 'nthread': 4, 'subsample': 1.0, 'xg_reg_alpha': 2.327786264388546, 'xg_reg_lambda': 2.0189639326064923}\n",
      "[3.2930486 4.0135746 3.709317  ... 3.6374972 4.128394  4.1588755]\n",
      "training_rmse 0.3101500083051247\n",
      "validation_rmse 0.32389920230991587\n",
      "hyperparameters {'colsample_bytree': 0.8, 'eta': 0.225, 'gamma': 0.75, 'max_depth': 56, 'min_child_weight': 3.0, 'n_estimators': 751.4685744131002, 'nthread': 4, 'subsample': 0.6000000000000001, 'xg_reg_alpha': 1.5194444661250508, 'xg_reg_lambda': 1.1115726992114072}\n",
      "[3.6724048 4.0793467 3.734897  ... 3.789658  4.150961  4.1472096]\n",
      "training_rmse 0.2764235172478307\n",
      "validation_rmse 0.32647804284228954\n",
      "hyperparameters {'colsample_bytree': 0.9500000000000001, 'eta': 0.2, 'gamma': 0.9, 'max_depth': 59, 'min_child_weight': 3.0, 'n_estimators': 566.7537131893232, 'nthread': 4, 'subsample': 0.55, 'xg_reg_alpha': 2.5552967144824965, 'xg_reg_lambda': 2.447471247321375}\n",
      "[3.510515  4.046141  3.676435  ... 3.6393404 4.114874  4.174361 ]\n",
      "training_rmse 0.3018488377675837\n",
      "validation_rmse 0.3262766612066221\n",
      "hyperparameters {'colsample_bytree': 0.75, 'eta': 0.375, 'gamma': 0.65, 'max_depth': 18, 'min_child_weight': 4.0, 'n_estimators': 115.54198955711014, 'nthread': 4, 'subsample': 0.7000000000000001, 'xg_reg_alpha': 2.304609071797653, 'xg_reg_lambda': 1.8916987059678245}\n",
      "[3.3149738 4.0360837 3.7193363 ... 3.66338   4.1185446 4.1354427]\n",
      "training_rmse 0.3036086314585856\n",
      "validation_rmse 0.32491435228682397\n",
      "hyperparameters {'colsample_bytree': 0.55, 'eta': 0.17500000000000002, 'gamma': 0.55, 'max_depth': 28, 'min_child_weight': 1.0, 'n_estimators': 339.0543319015504, 'nthread': 4, 'subsample': 0.75, 'xg_reg_alpha': 2.42189408243089, 'xg_reg_lambda': 1.933984051770632}\n",
      "[3.4922278 4.065153  3.7265017 ... 3.7117794 4.10918   4.1449404]\n",
      "training_rmse 0.29838590370596807\n",
      "validation_rmse 0.32257452430522077\n",
      "hyperparameters {'colsample_bytree': 0.75, 'eta': 0.1, 'gamma': 0.7000000000000001, 'max_depth': 31, 'min_child_weight': 3.0, 'n_estimators': 571.5102780838279, 'nthread': 4, 'subsample': 0.9, 'xg_reg_alpha': 2.6762446446763444, 'xg_reg_lambda': 2.447953436884636}\n"
     ]
    },
    {
     "ename": "KeyboardInterrupt",
     "evalue": "",
     "output_type": "error",
     "traceback": [
      "\u001b[0;31m---------------------------------------------------------------------------\u001b[0m",
      "\u001b[0;31mKeyboardInterrupt\u001b[0m                         Traceback (most recent call last)",
      "\u001b[0;32m<ipython-input-48-ab0106970e0a>\u001b[0m in \u001b[0;36m<module>\u001b[0;34m()\u001b[0m\n\u001b[0;32m----> 1\u001b[0;31m \u001b[0mbest\u001b[0m \u001b[0;34m=\u001b[0m \u001b[0mfmin\u001b[0m\u001b[0;34m(\u001b[0m\u001b[0mfn\u001b[0m\u001b[0;34m=\u001b[0m\u001b[0mtrain_xg_boost\u001b[0m\u001b[0;34m,\u001b[0m \u001b[0mspace\u001b[0m\u001b[0;34m=\u001b[0m\u001b[0mspace\u001b[0m\u001b[0;34m,\u001b[0m \u001b[0malgo\u001b[0m\u001b[0;34m=\u001b[0m\u001b[0mtpe\u001b[0m\u001b[0;34m.\u001b[0m\u001b[0msuggest\u001b[0m\u001b[0;34m,\u001b[0m\u001b[0mmax_evals\u001b[0m\u001b[0;34m=\u001b[0m\u001b[0;36m100\u001b[0m\u001b[0;34m,\u001b[0m\u001b[0mtrials\u001b[0m\u001b[0;34m=\u001b[0m\u001b[0mtrials\u001b[0m\u001b[0;34m)\u001b[0m\u001b[0;34m\u001b[0m\u001b[0m\n\u001b[0m",
      "\u001b[0;32m~/anaconda3/lib/python3.6/site-packages/hyperopt/fmin.py\u001b[0m in \u001b[0;36mfmin\u001b[0;34m(fn, space, algo, max_evals, trials, rstate, allow_trials_fmin, pass_expr_memo_ctrl, catch_eval_exceptions, verbose, return_argmin, points_to_evaluate, max_queue_len)\u001b[0m\n\u001b[1;32m    365\u001b[0m             \u001b[0mverbose\u001b[0m\u001b[0;34m=\u001b[0m\u001b[0mverbose\u001b[0m\u001b[0;34m,\u001b[0m\u001b[0;34m\u001b[0m\u001b[0m\n\u001b[1;32m    366\u001b[0m             \u001b[0mcatch_eval_exceptions\u001b[0m\u001b[0;34m=\u001b[0m\u001b[0mcatch_eval_exceptions\u001b[0m\u001b[0;34m,\u001b[0m\u001b[0;34m\u001b[0m\u001b[0m\n\u001b[0;32m--> 367\u001b[0;31m             \u001b[0mreturn_argmin\u001b[0m\u001b[0;34m=\u001b[0m\u001b[0mreturn_argmin\u001b[0m\u001b[0;34m,\u001b[0m\u001b[0;34m\u001b[0m\u001b[0m\n\u001b[0m\u001b[1;32m    368\u001b[0m         )\n\u001b[1;32m    369\u001b[0m \u001b[0;34m\u001b[0m\u001b[0m\n",
      "\u001b[0;32m~/anaconda3/lib/python3.6/site-packages/hyperopt/base.py\u001b[0m in \u001b[0;36mfmin\u001b[0;34m(self, fn, space, algo, max_evals, rstate, verbose, pass_expr_memo_ctrl, catch_eval_exceptions, return_argmin)\u001b[0m\n\u001b[1;32m    633\u001b[0m             \u001b[0mpass_expr_memo_ctrl\u001b[0m\u001b[0;34m=\u001b[0m\u001b[0mpass_expr_memo_ctrl\u001b[0m\u001b[0;34m,\u001b[0m\u001b[0;34m\u001b[0m\u001b[0m\n\u001b[1;32m    634\u001b[0m             \u001b[0mcatch_eval_exceptions\u001b[0m\u001b[0;34m=\u001b[0m\u001b[0mcatch_eval_exceptions\u001b[0m\u001b[0;34m,\u001b[0m\u001b[0;34m\u001b[0m\u001b[0m\n\u001b[0;32m--> 635\u001b[0;31m             return_argmin=return_argmin)\n\u001b[0m\u001b[1;32m    636\u001b[0m \u001b[0;34m\u001b[0m\u001b[0m\n\u001b[1;32m    637\u001b[0m \u001b[0;34m\u001b[0m\u001b[0m\n",
      "\u001b[0;32m~/anaconda3/lib/python3.6/site-packages/hyperopt/fmin.py\u001b[0m in \u001b[0;36mfmin\u001b[0;34m(fn, space, algo, max_evals, trials, rstate, allow_trials_fmin, pass_expr_memo_ctrl, catch_eval_exceptions, verbose, return_argmin, points_to_evaluate, max_queue_len)\u001b[0m\n\u001b[1;32m    383\u001b[0m                     max_queue_len=max_queue_len)\n\u001b[1;32m    384\u001b[0m     \u001b[0mrval\u001b[0m\u001b[0;34m.\u001b[0m\u001b[0mcatch_eval_exceptions\u001b[0m \u001b[0;34m=\u001b[0m \u001b[0mcatch_eval_exceptions\u001b[0m\u001b[0;34m\u001b[0m\u001b[0m\n\u001b[0;32m--> 385\u001b[0;31m     \u001b[0mrval\u001b[0m\u001b[0;34m.\u001b[0m\u001b[0mexhaust\u001b[0m\u001b[0;34m(\u001b[0m\u001b[0;34m)\u001b[0m\u001b[0;34m\u001b[0m\u001b[0m\n\u001b[0m\u001b[1;32m    386\u001b[0m     \u001b[0;32mif\u001b[0m \u001b[0mreturn_argmin\u001b[0m\u001b[0;34m:\u001b[0m\u001b[0;34m\u001b[0m\u001b[0m\n\u001b[1;32m    387\u001b[0m         \u001b[0;32mreturn\u001b[0m \u001b[0mtrials\u001b[0m\u001b[0;34m.\u001b[0m\u001b[0margmin\u001b[0m\u001b[0;34m\u001b[0m\u001b[0m\n",
      "\u001b[0;32m~/anaconda3/lib/python3.6/site-packages/hyperopt/fmin.py\u001b[0m in \u001b[0;36mexhaust\u001b[0;34m(self)\u001b[0m\n\u001b[1;32m    242\u001b[0m     \u001b[0;32mdef\u001b[0m \u001b[0mexhaust\u001b[0m\u001b[0;34m(\u001b[0m\u001b[0mself\u001b[0m\u001b[0;34m)\u001b[0m\u001b[0;34m:\u001b[0m\u001b[0;34m\u001b[0m\u001b[0m\n\u001b[1;32m    243\u001b[0m         \u001b[0mn_done\u001b[0m \u001b[0;34m=\u001b[0m \u001b[0mlen\u001b[0m\u001b[0;34m(\u001b[0m\u001b[0mself\u001b[0m\u001b[0;34m.\u001b[0m\u001b[0mtrials\u001b[0m\u001b[0;34m)\u001b[0m\u001b[0;34m\u001b[0m\u001b[0m\n\u001b[0;32m--> 244\u001b[0;31m         \u001b[0mself\u001b[0m\u001b[0;34m.\u001b[0m\u001b[0mrun\u001b[0m\u001b[0;34m(\u001b[0m\u001b[0mself\u001b[0m\u001b[0;34m.\u001b[0m\u001b[0mmax_evals\u001b[0m \u001b[0;34m-\u001b[0m \u001b[0mn_done\u001b[0m\u001b[0;34m,\u001b[0m \u001b[0mblock_until_done\u001b[0m\u001b[0;34m=\u001b[0m\u001b[0mself\u001b[0m\u001b[0;34m.\u001b[0m\u001b[0masynchronous\u001b[0m\u001b[0;34m)\u001b[0m\u001b[0;34m\u001b[0m\u001b[0m\n\u001b[0m\u001b[1;32m    245\u001b[0m         \u001b[0mself\u001b[0m\u001b[0;34m.\u001b[0m\u001b[0mtrials\u001b[0m\u001b[0;34m.\u001b[0m\u001b[0mrefresh\u001b[0m\u001b[0;34m(\u001b[0m\u001b[0;34m)\u001b[0m\u001b[0;34m\u001b[0m\u001b[0m\n\u001b[1;32m    246\u001b[0m         \u001b[0;32mreturn\u001b[0m \u001b[0mself\u001b[0m\u001b[0;34m\u001b[0m\u001b[0m\n",
      "\u001b[0;32m~/anaconda3/lib/python3.6/site-packages/hyperopt/fmin.py\u001b[0m in \u001b[0;36mrun\u001b[0;34m(self, N, block_until_done)\u001b[0m\n\u001b[1;32m    216\u001b[0m             \u001b[0;32melse\u001b[0m\u001b[0;34m:\u001b[0m\u001b[0;34m\u001b[0m\u001b[0m\n\u001b[1;32m    217\u001b[0m                 \u001b[0;31m# -- loop over trials and do the jobs directly\u001b[0m\u001b[0;34m\u001b[0m\u001b[0;34m\u001b[0m\u001b[0m\n\u001b[0;32m--> 218\u001b[0;31m                 \u001b[0mself\u001b[0m\u001b[0;34m.\u001b[0m\u001b[0mserial_evaluate\u001b[0m\u001b[0;34m(\u001b[0m\u001b[0;34m)\u001b[0m\u001b[0;34m\u001b[0m\u001b[0m\n\u001b[0m\u001b[1;32m    219\u001b[0m \u001b[0;34m\u001b[0m\u001b[0m\n\u001b[1;32m    220\u001b[0m             \u001b[0;32mif\u001b[0m \u001b[0mstopped\u001b[0m\u001b[0;34m:\u001b[0m\u001b[0;34m\u001b[0m\u001b[0m\n",
      "\u001b[0;32m~/anaconda3/lib/python3.6/site-packages/hyperopt/fmin.py\u001b[0m in \u001b[0;36mserial_evaluate\u001b[0;34m(self, N)\u001b[0m\n\u001b[1;32m    135\u001b[0m                 \u001b[0mctrl\u001b[0m \u001b[0;34m=\u001b[0m \u001b[0mbase\u001b[0m\u001b[0;34m.\u001b[0m\u001b[0mCtrl\u001b[0m\u001b[0;34m(\u001b[0m\u001b[0mself\u001b[0m\u001b[0;34m.\u001b[0m\u001b[0mtrials\u001b[0m\u001b[0;34m,\u001b[0m \u001b[0mcurrent_trial\u001b[0m\u001b[0;34m=\u001b[0m\u001b[0mtrial\u001b[0m\u001b[0;34m)\u001b[0m\u001b[0;34m\u001b[0m\u001b[0m\n\u001b[1;32m    136\u001b[0m                 \u001b[0;32mtry\u001b[0m\u001b[0;34m:\u001b[0m\u001b[0;34m\u001b[0m\u001b[0m\n\u001b[0;32m--> 137\u001b[0;31m                     \u001b[0mresult\u001b[0m \u001b[0;34m=\u001b[0m \u001b[0mself\u001b[0m\u001b[0;34m.\u001b[0m\u001b[0mdomain\u001b[0m\u001b[0;34m.\u001b[0m\u001b[0mevaluate\u001b[0m\u001b[0;34m(\u001b[0m\u001b[0mspec\u001b[0m\u001b[0;34m,\u001b[0m \u001b[0mctrl\u001b[0m\u001b[0;34m)\u001b[0m\u001b[0;34m\u001b[0m\u001b[0m\n\u001b[0m\u001b[1;32m    138\u001b[0m                 \u001b[0;32mexcept\u001b[0m \u001b[0mException\u001b[0m \u001b[0;32mas\u001b[0m \u001b[0me\u001b[0m\u001b[0;34m:\u001b[0m\u001b[0;34m\u001b[0m\u001b[0m\n\u001b[1;32m    139\u001b[0m                     \u001b[0mlogger\u001b[0m\u001b[0;34m.\u001b[0m\u001b[0minfo\u001b[0m\u001b[0;34m(\u001b[0m\u001b[0;34m'job exception: %s'\u001b[0m \u001b[0;34m%\u001b[0m \u001b[0mstr\u001b[0m\u001b[0;34m(\u001b[0m\u001b[0me\u001b[0m\u001b[0;34m)\u001b[0m\u001b[0;34m)\u001b[0m\u001b[0;34m\u001b[0m\u001b[0m\n",
      "\u001b[0;32m~/anaconda3/lib/python3.6/site-packages/hyperopt/base.py\u001b[0m in \u001b[0;36mevaluate\u001b[0;34m(self, config, ctrl, attach_attachments)\u001b[0m\n\u001b[1;32m    838\u001b[0m                 \u001b[0mmemo\u001b[0m\u001b[0;34m=\u001b[0m\u001b[0mmemo\u001b[0m\u001b[0;34m,\u001b[0m\u001b[0;34m\u001b[0m\u001b[0m\n\u001b[1;32m    839\u001b[0m                 print_node_on_error=self.rec_eval_print_node_on_error)\n\u001b[0;32m--> 840\u001b[0;31m             \u001b[0mrval\u001b[0m \u001b[0;34m=\u001b[0m \u001b[0mself\u001b[0m\u001b[0;34m.\u001b[0m\u001b[0mfn\u001b[0m\u001b[0;34m(\u001b[0m\u001b[0mpyll_rval\u001b[0m\u001b[0;34m)\u001b[0m\u001b[0;34m\u001b[0m\u001b[0m\n\u001b[0m\u001b[1;32m    841\u001b[0m \u001b[0;34m\u001b[0m\u001b[0m\n\u001b[1;32m    842\u001b[0m         \u001b[0;32mif\u001b[0m \u001b[0misinstance\u001b[0m\u001b[0;34m(\u001b[0m\u001b[0mrval\u001b[0m\u001b[0;34m,\u001b[0m \u001b[0;34m(\u001b[0m\u001b[0mfloat\u001b[0m\u001b[0;34m,\u001b[0m \u001b[0mint\u001b[0m\u001b[0;34m,\u001b[0m \u001b[0mnp\u001b[0m\u001b[0;34m.\u001b[0m\u001b[0mnumber\u001b[0m\u001b[0;34m)\u001b[0m\u001b[0;34m)\u001b[0m\u001b[0;34m:\u001b[0m\u001b[0;34m\u001b[0m\u001b[0m\n",
      "\u001b[0;32m<ipython-input-46-60d49fd2f3b5>\u001b[0m in \u001b[0;36mtrain_xg_boost\u001b[0;34m(params)\u001b[0m\n\u001b[1;32m     12\u001b[0m     \u001b[0;31m# In[ ]:\u001b[0m\u001b[0;34m\u001b[0m\u001b[0;34m\u001b[0m\u001b[0m\n\u001b[1;32m     13\u001b[0m \u001b[0;34m\u001b[0m\u001b[0m\n\u001b[0;32m---> 14\u001b[0;31m     \u001b[0mxg_model\u001b[0m\u001b[0;34m.\u001b[0m\u001b[0mfit\u001b[0m\u001b[0;34m(\u001b[0m\u001b[0mX_train\u001b[0m\u001b[0;34m.\u001b[0m\u001b[0mvalues\u001b[0m\u001b[0;34m,\u001b[0m \u001b[0my_train\u001b[0m\u001b[0;34m.\u001b[0m\u001b[0mvalues\u001b[0m\u001b[0;34m)\u001b[0m\u001b[0;34m\u001b[0m\u001b[0m\n\u001b[0m\u001b[1;32m     15\u001b[0m \u001b[0;34m\u001b[0m\u001b[0m\n\u001b[1;32m     16\u001b[0m     \u001b[0;31m# In[68]:\u001b[0m\u001b[0;34m\u001b[0m\u001b[0;34m\u001b[0m\u001b[0m\n",
      "\u001b[0;32m~/anaconda3/lib/python3.6/site-packages/xgboost/sklearn.py\u001b[0m in \u001b[0;36mfit\u001b[0;34m(self, X, y, sample_weight, eval_set, eval_metric, early_stopping_rounds, verbose, xgb_model, sample_weight_eval_set)\u001b[0m\n\u001b[1;32m    322\u001b[0m                               \u001b[0mearly_stopping_rounds\u001b[0m\u001b[0;34m=\u001b[0m\u001b[0mearly_stopping_rounds\u001b[0m\u001b[0;34m,\u001b[0m\u001b[0;34m\u001b[0m\u001b[0m\n\u001b[1;32m    323\u001b[0m                               \u001b[0mevals_result\u001b[0m\u001b[0;34m=\u001b[0m\u001b[0mevals_result\u001b[0m\u001b[0;34m,\u001b[0m \u001b[0mobj\u001b[0m\u001b[0;34m=\u001b[0m\u001b[0mobj\u001b[0m\u001b[0;34m,\u001b[0m \u001b[0mfeval\u001b[0m\u001b[0;34m=\u001b[0m\u001b[0mfeval\u001b[0m\u001b[0;34m,\u001b[0m\u001b[0;34m\u001b[0m\u001b[0m\n\u001b[0;32m--> 324\u001b[0;31m                               verbose_eval=verbose, xgb_model=xgb_model)\n\u001b[0m\u001b[1;32m    325\u001b[0m \u001b[0;34m\u001b[0m\u001b[0m\n\u001b[1;32m    326\u001b[0m         \u001b[0;32mif\u001b[0m \u001b[0mevals_result\u001b[0m\u001b[0;34m:\u001b[0m\u001b[0;34m\u001b[0m\u001b[0m\n",
      "\u001b[0;32m~/anaconda3/lib/python3.6/site-packages/xgboost/training.py\u001b[0m in \u001b[0;36mtrain\u001b[0;34m(params, dtrain, num_boost_round, evals, obj, feval, maximize, early_stopping_rounds, evals_result, verbose_eval, xgb_model, callbacks, learning_rates)\u001b[0m\n\u001b[1;32m    202\u001b[0m                            \u001b[0mevals\u001b[0m\u001b[0;34m=\u001b[0m\u001b[0mevals\u001b[0m\u001b[0;34m,\u001b[0m\u001b[0;34m\u001b[0m\u001b[0m\n\u001b[1;32m    203\u001b[0m                            \u001b[0mobj\u001b[0m\u001b[0;34m=\u001b[0m\u001b[0mobj\u001b[0m\u001b[0;34m,\u001b[0m \u001b[0mfeval\u001b[0m\u001b[0;34m=\u001b[0m\u001b[0mfeval\u001b[0m\u001b[0;34m,\u001b[0m\u001b[0;34m\u001b[0m\u001b[0m\n\u001b[0;32m--> 204\u001b[0;31m                            xgb_model=xgb_model, callbacks=callbacks)\n\u001b[0m\u001b[1;32m    205\u001b[0m \u001b[0;34m\u001b[0m\u001b[0m\n\u001b[1;32m    206\u001b[0m \u001b[0;34m\u001b[0m\u001b[0m\n",
      "\u001b[0;32m~/anaconda3/lib/python3.6/site-packages/xgboost/training.py\u001b[0m in \u001b[0;36m_train_internal\u001b[0;34m(params, dtrain, num_boost_round, evals, obj, feval, xgb_model, callbacks)\u001b[0m\n\u001b[1;32m     72\u001b[0m         \u001b[0;31m# Skip the first update if it is a recovery step.\u001b[0m\u001b[0;34m\u001b[0m\u001b[0;34m\u001b[0m\u001b[0m\n\u001b[1;32m     73\u001b[0m         \u001b[0;32mif\u001b[0m \u001b[0mversion\u001b[0m \u001b[0;34m%\u001b[0m \u001b[0;36m2\u001b[0m \u001b[0;34m==\u001b[0m \u001b[0;36m0\u001b[0m\u001b[0;34m:\u001b[0m\u001b[0;34m\u001b[0m\u001b[0m\n\u001b[0;32m---> 74\u001b[0;31m             \u001b[0mbst\u001b[0m\u001b[0;34m.\u001b[0m\u001b[0mupdate\u001b[0m\u001b[0;34m(\u001b[0m\u001b[0mdtrain\u001b[0m\u001b[0;34m,\u001b[0m \u001b[0mi\u001b[0m\u001b[0;34m,\u001b[0m \u001b[0mobj\u001b[0m\u001b[0;34m)\u001b[0m\u001b[0;34m\u001b[0m\u001b[0m\n\u001b[0m\u001b[1;32m     75\u001b[0m             \u001b[0mbst\u001b[0m\u001b[0;34m.\u001b[0m\u001b[0msave_rabit_checkpoint\u001b[0m\u001b[0;34m(\u001b[0m\u001b[0;34m)\u001b[0m\u001b[0;34m\u001b[0m\u001b[0m\n\u001b[1;32m     76\u001b[0m             \u001b[0mversion\u001b[0m \u001b[0;34m+=\u001b[0m \u001b[0;36m1\u001b[0m\u001b[0;34m\u001b[0m\u001b[0m\n",
      "\u001b[0;32m~/anaconda3/lib/python3.6/site-packages/xgboost/core.py\u001b[0m in \u001b[0;36mupdate\u001b[0;34m(self, dtrain, iteration, fobj)\u001b[0m\n\u001b[1;32m   1019\u001b[0m         \u001b[0;32mif\u001b[0m \u001b[0mfobj\u001b[0m \u001b[0;32mis\u001b[0m \u001b[0;32mNone\u001b[0m\u001b[0;34m:\u001b[0m\u001b[0;34m\u001b[0m\u001b[0m\n\u001b[1;32m   1020\u001b[0m             _check_call(_LIB.XGBoosterUpdateOneIter(self.handle, ctypes.c_int(iteration),\n\u001b[0;32m-> 1021\u001b[0;31m                                                     dtrain.handle))\n\u001b[0m\u001b[1;32m   1022\u001b[0m         \u001b[0;32melse\u001b[0m\u001b[0;34m:\u001b[0m\u001b[0;34m\u001b[0m\u001b[0m\n\u001b[1;32m   1023\u001b[0m             \u001b[0mpred\u001b[0m \u001b[0;34m=\u001b[0m \u001b[0mself\u001b[0m\u001b[0;34m.\u001b[0m\u001b[0mpredict\u001b[0m\u001b[0;34m(\u001b[0m\u001b[0mdtrain\u001b[0m\u001b[0;34m)\u001b[0m\u001b[0;34m\u001b[0m\u001b[0m\n",
      "\u001b[0;31mKeyboardInterrupt\u001b[0m: "
     ]
    }
   ],
   "source": [
    "best = fmin(fn=train_xg_boost, space=space, algo=tpe.suggest,max_evals=100,trials=trials)\n",
    "\n"
   ]
  },
  {
   "cell_type": "code",
   "execution_count": null,
   "metadata": {},
   "outputs": [],
   "source": []
  }
 ],
 "metadata": {
  "kernelspec": {
   "display_name": "Python 3",
   "language": "python",
   "name": "python3"
  },
  "language_info": {
   "codemirror_mode": {
    "name": "ipython",
    "version": 3
   },
   "file_extension": ".py",
   "mimetype": "text/x-python",
   "name": "python",
   "nbconvert_exporter": "python",
   "pygments_lexer": "ipython3",
   "version": "3.6.5"
  }
 },
 "nbformat": 4,
 "nbformat_minor": 2
}
