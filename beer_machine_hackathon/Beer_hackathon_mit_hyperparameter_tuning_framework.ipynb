{
 "cells": [
  {
   "cell_type": "code",
   "execution_count": 1,
   "metadata": {},
   "outputs": [
    {
     "name": "stdout",
     "output_type": "stream",
     "text": [
      "\u001b[33mThe directory '/home/jovyan/.cache/pip/http' or its parent directory is not owned by the current user and the cache has been disabled. Please check the permissions and owner of that directory. If executing pip with sudo, you may want sudo's -H flag.\u001b[0m\n",
      "\u001b[33mThe directory '/home/jovyan/.cache/pip' or its parent directory is not owned by the current user and caching wheels has been disabled. check the permissions and owner of that directory. If executing pip with sudo, you may want sudo's -H flag.\u001b[0m\n",
      "Requirement already satisfied: pandas in /opt/conda/lib/python3.6/site-packages (0.23.4)\n",
      "Requirement already satisfied: numpy>=1.9.0 in /opt/conda/lib/python3.6/site-packages (from pandas) (1.13.3)\n",
      "Requirement already satisfied: python-dateutil>=2.5.0 in /opt/conda/lib/python3.6/site-packages (from pandas) (2.7.4)\n",
      "Requirement already satisfied: pytz>=2011k in /opt/conda/lib/python3.6/site-packages (from pandas) (2018.6)\n",
      "Requirement already satisfied: six>=1.5 in /opt/conda/lib/python3.6/site-packages (from python-dateutil>=2.5.0->pandas) (1.11.0)\n"
     ]
    }
   ],
   "source": [
    "!pip install pandas"
   ]
  },
  {
   "cell_type": "code",
   "execution_count": 3,
   "metadata": {},
   "outputs": [
    {
     "name": "stdout",
     "output_type": "stream",
     "text": [
      "\u001b[33mThe directory '/home/jovyan/.cache/pip/http' or its parent directory is not owned by the current user and the cache has been disabled. Please check the permissions and owner of that directory. If executing pip with sudo, you may want sudo's -H flag.\u001b[0m\n",
      "\u001b[33mThe directory '/home/jovyan/.cache/pip' or its parent directory is not owned by the current user and caching wheels has been disabled. check the permissions and owner of that directory. If executing pip with sudo, you may want sudo's -H flag.\u001b[0m\n",
      "Collecting xgboost\n",
      "\u001b[?25l  Downloading https://files.pythonhosted.org/packages/8f/15/606f81a2b8a8e82eaa10683cb3f3074905ec65d3bcef949e3f0909f165a5/xgboost-0.80-py2.py3-none-manylinux1_x86_64.whl (15.8MB)\n",
      "\u001b[K    100% |████████████████████████████████| 15.8MB 5.5MB/s \n",
      "\u001b[?25hRequirement already satisfied: scipy in /opt/conda/lib/python3.6/site-packages (from xgboost) (1.1.0)\n",
      "Requirement already satisfied: numpy in /opt/conda/lib/python3.6/site-packages (from xgboost) (1.13.3)\n",
      "Installing collected packages: xgboost\n",
      "Successfully installed xgboost-0.80\n"
     ]
    }
   ],
   "source": [
    "!pip install xgboost"
   ]
  },
  {
   "cell_type": "code",
   "execution_count": 4,
   "metadata": {},
   "outputs": [
    {
     "name": "stdout",
     "output_type": "stream",
     "text": [
      "\u001b[33mThe directory '/home/jovyan/.cache/pip/http' or its parent directory is not owned by the current user and the cache has been disabled. Please check the permissions and owner of that directory. If executing pip with sudo, you may want sudo's -H flag.\u001b[0m\n",
      "\u001b[33mThe directory '/home/jovyan/.cache/pip' or its parent directory is not owned by the current user and caching wheels has been disabled. check the permissions and owner of that directory. If executing pip with sudo, you may want sudo's -H flag.\u001b[0m\n",
      "Requirement already up-to-date: pip in /opt/conda/lib/python3.6/site-packages (18.1)\n"
     ]
    }
   ],
   "source": [
    "!pip install --upgrade pip"
   ]
  },
  {
   "cell_type": "code",
   "execution_count": 5,
   "metadata": {},
   "outputs": [
    {
     "name": "stdout",
     "output_type": "stream",
     "text": [
      "\u001b[33mThe directory '/home/jovyan/.cache/pip/http' or its parent directory is not owned by the current user and the cache has been disabled. Please check the permissions and owner of that directory. If executing pip with sudo, you may want sudo's -H flag.\u001b[0m\n",
      "\u001b[33mThe directory '/home/jovyan/.cache/pip' or its parent directory is not owned by the current user and caching wheels has been disabled. check the permissions and owner of that directory. If executing pip with sudo, you may want sudo's -H flag.\u001b[0m\n",
      "Collecting msgpack\n",
      "\u001b[?25l  Downloading https://files.pythonhosted.org/packages/22/4e/dcf124fd97e5f5611123d6ad9f40ffd6eb979d1efdc1049e28a795672fcd/msgpack-0.5.6-cp36-cp36m-manylinux1_x86_64.whl (315kB)\n",
      "\u001b[K    100% |████████████████████████████████| 317kB 16.4MB/s \n",
      "\u001b[?25hInstalling collected packages: msgpack\n",
      "Successfully installed msgpack-0.5.6\n"
     ]
    }
   ],
   "source": [
    "!pip install msgpack"
   ]
  },
  {
   "cell_type": "code",
   "execution_count": 6,
   "metadata": {},
   "outputs": [
    {
     "name": "stdout",
     "output_type": "stream",
     "text": [
      "\u001b[33mThe directory '/home/jovyan/.cache/pip/http' or its parent directory is not owned by the current user and the cache has been disabled. Please check the permissions and owner of that directory. If executing pip with sudo, you may want sudo's -H flag.\u001b[0m\n",
      "\u001b[33mThe directory '/home/jovyan/.cache/pip' or its parent directory is not owned by the current user and caching wheels has been disabled. check the permissions and owner of that directory. If executing pip with sudo, you may want sudo's -H flag.\u001b[0m\n",
      "Collecting hyperparameter-hunter\n",
      "\u001b[?25l  Downloading https://files.pythonhosted.org/packages/cb/81/4560c3d8f432b7c42d271e15dd116fd8d0accb6232dddd3cc5f4f8897ec7/hyperparameter_hunter-1.1.0-py3-none-any.whl (147kB)\n",
      "\u001b[K    100% |████████████████████████████████| 153kB 13.5MB/s \n",
      "\u001b[?25hRequirement already satisfied: scikit-learn in /opt/conda/lib/python3.6/site-packages (from hyperparameter-hunter) (0.19.2)\n",
      "Requirement already satisfied: numpy in /opt/conda/lib/python3.6/site-packages (from hyperparameter-hunter) (1.13.3)\n",
      "Requirement already satisfied: pandas in /opt/conda/lib/python3.6/site-packages (from hyperparameter-hunter) (0.23.4)\n",
      "Requirement already satisfied: nbconvert in /opt/conda/lib/python3.6/site-packages (from hyperparameter-hunter) (5.3.1)\n",
      "Collecting scikit-optimize (from hyperparameter-hunter)\n",
      "\u001b[?25l  Downloading https://files.pythonhosted.org/packages/f4/44/60f82c97d1caa98752c7da2c1681cab5c7a390a0fdd3a55fac672b321cac/scikit_optimize-0.5.2-py2.py3-none-any.whl (74kB)\n",
      "\u001b[K    100% |████████████████████████████████| 81kB 26.3MB/s \n",
      "\u001b[?25hRequirement already satisfied: scipy in /opt/conda/lib/python3.6/site-packages (from hyperparameter-hunter) (1.1.0)\n",
      "Collecting simplejson (from hyperparameter-hunter)\n",
      "\u001b[?25l  Downloading https://files.pythonhosted.org/packages/e3/24/c35fb1c1c315fc0fffe61ea00d3f88e85469004713dab488dee4f35b0aff/simplejson-3.16.0.tar.gz (81kB)\n",
      "\u001b[K    100% |████████████████████████████████| 81kB 25.3MB/s \n",
      "\u001b[?25hRequirement already satisfied: dill in /opt/conda/lib/python3.6/site-packages (from hyperparameter-hunter) (0.2.8.2)\n",
      "Requirement already satisfied: nbformat in /opt/conda/lib/python3.6/site-packages (from hyperparameter-hunter) (4.4.0)\n",
      "Requirement already satisfied: python-dateutil>=2.5.0 in /opt/conda/lib/python3.6/site-packages (from pandas->hyperparameter-hunter) (2.7.4)\n",
      "Requirement already satisfied: pytz>=2011k in /opt/conda/lib/python3.6/site-packages (from pandas->hyperparameter-hunter) (2018.6)\n",
      "Requirement already satisfied: bleach in /opt/conda/lib/python3.6/site-packages (from nbconvert->hyperparameter-hunter) (3.0.2)\n",
      "Requirement already satisfied: testpath in /opt/conda/lib/python3.6/site-packages (from nbconvert->hyperparameter-hunter) (0.4.2)\n",
      "Requirement already satisfied: jinja2 in /opt/conda/lib/python3.6/site-packages (from nbconvert->hyperparameter-hunter) (2.10)\n",
      "Requirement already satisfied: jupyter-core in /opt/conda/lib/python3.6/site-packages (from nbconvert->hyperparameter-hunter) (4.4.0)\n",
      "Requirement already satisfied: entrypoints>=0.2.2 in /opt/conda/lib/python3.6/site-packages (from nbconvert->hyperparameter-hunter) (0.2.3)\n",
      "Requirement already satisfied: pandocfilters>=1.4.1 in /opt/conda/lib/python3.6/site-packages (from nbconvert->hyperparameter-hunter) (1.4.2)\n",
      "Requirement already satisfied: traitlets>=4.2 in /opt/conda/lib/python3.6/site-packages (from nbconvert->hyperparameter-hunter) (4.3.2)\n",
      "Requirement already satisfied: pygments in /opt/conda/lib/python3.6/site-packages (from nbconvert->hyperparameter-hunter) (2.2.0)\n",
      "Requirement already satisfied: mistune>=0.7.4 in /opt/conda/lib/python3.6/site-packages (from nbconvert->hyperparameter-hunter) (0.8.4)\n",
      "Requirement already satisfied: ipython_genutils in /opt/conda/lib/python3.6/site-packages (from nbformat->hyperparameter-hunter) (0.2.0)\n",
      "Requirement already satisfied: jsonschema!=2.5.0,>=2.4 in /opt/conda/lib/python3.6/site-packages (from nbformat->hyperparameter-hunter) (2.6.0)\n",
      "Requirement already satisfied: six>=1.5 in /opt/conda/lib/python3.6/site-packages (from python-dateutil>=2.5.0->pandas->hyperparameter-hunter) (1.11.0)\n",
      "Requirement already satisfied: webencodings in /opt/conda/lib/python3.6/site-packages (from bleach->nbconvert->hyperparameter-hunter) (0.5.1)\n",
      "Requirement already satisfied: MarkupSafe>=0.23 in /opt/conda/lib/python3.6/site-packages (from jinja2->nbconvert->hyperparameter-hunter) (1.0)\n",
      "Requirement already satisfied: decorator in /opt/conda/lib/python3.6/site-packages (from traitlets>=4.2->nbconvert->hyperparameter-hunter) (4.3.0)\n",
      "Installing collected packages: scikit-optimize, simplejson, hyperparameter-hunter\n",
      "  Running setup.py install for simplejson ... \u001b[?25ldone\n",
      "\u001b[?25hSuccessfully installed hyperparameter-hunter-1.1.0 scikit-optimize-0.5.2 simplejson-3.16.0\n"
     ]
    }
   ],
   "source": [
    "!pip install hyperparameter-hunter"
   ]
  },
  {
   "cell_type": "code",
   "execution_count": 1,
   "metadata": {},
   "outputs": [],
   "source": [
    "import pandas as pd\n",
    "import numpy as np\n",
    "import matplotlib.pyplot as plt\n",
    "from sklearn.utils import shuffle\n",
    "from sklearn.model_selection import train_test_split\n",
    "from xgboost import XGBRegressor\n",
    "import math\n",
    "from sklearn.metrics import mean_squared_error\n",
    "import time\n",
    "from sklearn.model_selection import KFold\n",
    "from hyperparameter_hunter import Environment, CrossValidationExperiment\n",
    "\n",
    "from hyperparameter_hunter import Environment, Real, Integer, Categorical, BayesianOptimization"
   ]
  },
  {
   "cell_type": "code",
   "execution_count": 2,
   "metadata": {},
   "outputs": [],
   "source": [
    "%matplotlib inline"
   ]
  },
  {
   "cell_type": "code",
   "execution_count": 3,
   "metadata": {},
   "outputs": [
    {
     "name": "stdout",
     "output_type": "stream",
     "text": [
      "Beer_hackathon_mit_hyperparameter_tuning_framework.ipynb\n",
      "Beer\\ Test\\ Data\\ Set.csv\n",
      "Beer\\ Train\\ Data\\ Set.csv\n",
      "datasets\n",
      "hyperparameter_results\n",
      "storage\n",
      "Untitled.ipynb\n"
     ]
    }
   ],
   "source": [
    "!dir"
   ]
  },
  {
   "cell_type": "code",
   "execution_count": 4,
   "metadata": {},
   "outputs": [],
   "source": [
    "train_Data = pd.read_csv(\"Beer Train Data Set.csv\")"
   ]
  },
  {
   "cell_type": "code",
   "execution_count": 5,
   "metadata": {},
   "outputs": [
    {
     "name": "stdout",
     "output_type": "stream",
     "text": [
      "['ABV' 'Brewing Company' 'Food Paring' 'Glassware Used' 'Beer Name'\n",
      " 'Ratings' 'Style Name' 'Cellar Temperature' 'Serving Temperature' 'Score']\n"
     ]
    }
   ],
   "source": [
    "print(train_Data.columns.values)"
   ]
  },
  {
   "cell_type": "code",
   "execution_count": 6,
   "metadata": {},
   "outputs": [],
   "source": [
    "#writing a function which returns unique values for a particular column\n",
    "def get_unique_value_counts(dataframe,feature_name):\n",
    "    unique_values = len(dataframe[feature_name].unique())\n",
    "    return unique_value_count\n",
    "    \n"
   ]
  },
  {
   "cell_type": "code",
   "execution_count": 7,
   "metadata": {},
   "outputs": [
    {
     "name": "stdout",
     "output_type": "stream",
     "text": [
      "94\n"
     ]
    }
   ],
   "source": [
    "#unique_v_counts_features = [\"Style Name\",\"Brewing Company\",\"\"]\n",
    "print(len(train_Data[\"Style Name\"].unique()))"
   ]
  },
  {
   "cell_type": "markdown",
   "metadata": {},
   "source": [
    "Find a way to encode beer style name."
   ]
  },
  {
   "cell_type": "code",
   "execution_count": 8,
   "metadata": {},
   "outputs": [
    {
     "data": {
      "text/plain": [
       "AmericanIPA                      25577\n",
       "AmericanPaleAle(APA)             12648\n",
       "AmericanPorter                   11992\n",
       "AmericanDoubleImperialIPA        10147\n",
       "SaisonFarmhouseAle                8982\n",
       "AmericanAmberRedAle               5924\n",
       "AmericanWildAle                   5523\n",
       "AmericanDoubleImperialStout       5125\n",
       "AmericanStout                     4911\n",
       "AmericanBlondeAle                 4234\n",
       "FruitVegetableBeer                4088\n",
       "AmericanBrownAle                  3958\n",
       "Hefeweizen                        3670\n",
       "Witbier                           3265\n",
       "GermanPilsener                    2955\n",
       "BelgianPaleAle                    2909\n",
       "EuroPaleLager                     2444\n",
       "BerlinerWeissbier                 2376\n",
       "AmericanBlackAle                  2255\n",
       "MrzenOktoberfest                  2214\n",
       "EnglishPaleAle                    2176\n",
       "EnglishBitter                     2164\n",
       "AmericanPaleLager                 2160\n",
       "Tripel                            1987\n",
       "Klsch                             1888\n",
       "CzechPilsener                     1778\n",
       "Gose                              1681\n",
       "HerbedSpicedBeer                  1578\n",
       "CreamAle                          1452\n",
       "EnglishIndiaPaleAle(IPA)          1451\n",
       "                                 ...  \n",
       "AmericanAmberRedLager              608\n",
       "EuroDarkLager                      590\n",
       "Weizenbock                         517\n",
       "CaliforniaCommonSteamBeer          507\n",
       "LowAlcoholBeer                     438\n",
       "DortmunderExportLager              431\n",
       "Lambic-Fruit                       397\n",
       "Rauchbier                          394\n",
       "ChileBeer                          365\n",
       "AmericanDoubleImperialPilsner      334\n",
       "EnglishPaleMildAle                 331\n",
       "FlandersRedAle                     328\n",
       "FlandersOudBruin                   266\n",
       "AmericanMaltLiquor                 247\n",
       "ScottishGruitAncientHerbedAle      240\n",
       "Wheatwine                          219\n",
       "Roggenbier                         195\n",
       "Kvass                              193\n",
       "AmericanDarkWheatAle               179\n",
       "Braggot                            167\n",
       "Kristalweizen                      161\n",
       "Gueuze                             104\n",
       "Lambic-Unblended                    93\n",
       "JapaneseRiceLager                   89\n",
       "Eisbock                             75\n",
       "BlackTan                            69\n",
       "Sahti                               68\n",
       "Happoshu                            58\n",
       "BiredeChampagneBireBrut             51\n",
       "Faro                                18\n",
       "Name: Style Name, Length: 94, dtype: int64"
      ]
     },
     "execution_count": 8,
     "metadata": {},
     "output_type": "execute_result"
    }
   ],
   "source": [
    "train_Data[\"Style Name\"].value_counts()"
   ]
  },
  {
   "cell_type": "code",
   "execution_count": 9,
   "metadata": {},
   "outputs": [
    {
     "data": {
      "text/plain": [
       "ABV                    15130\n",
       "Brewing Company            0\n",
       "Food Paring                0\n",
       "Glassware Used             0\n",
       "Beer Name                  0\n",
       "Ratings                    0\n",
       "Style Name                 0\n",
       "Cellar Temperature      6781\n",
       "Serving Temperature      193\n",
       "Score                      0\n",
       "dtype: int64"
      ]
     },
     "execution_count": 9,
     "metadata": {},
     "output_type": "execute_result"
    }
   ],
   "source": [
    "train_Data.isna().sum()"
   ]
  },
  {
   "cell_type": "code",
   "execution_count": 10,
   "metadata": {},
   "outputs": [],
   "source": [
    "food_pairing_unique_list = (train_Data[\"Food Paring\"].unique())"
   ]
  },
  {
   "cell_type": "code",
   "execution_count": 11,
   "metadata": {},
   "outputs": [
    {
     "name": "stdout",
     "output_type": "stream",
     "text": [
      "13541\n"
     ]
    }
   ],
   "source": [
    "print(train_Data[\"Brewing Company\"].max())"
   ]
  },
  {
   "cell_type": "code",
   "execution_count": 12,
   "metadata": {},
   "outputs": [],
   "source": [
    "train_Data = shuffle(train_Data, random_state=2)"
   ]
  },
  {
   "cell_type": "code",
   "execution_count": 13,
   "metadata": {},
   "outputs": [],
   "source": [
    "train_Data.reset_index(drop=True,inplace=True)"
   ]
  },
  {
   "cell_type": "code",
   "execution_count": 14,
   "metadata": {},
   "outputs": [
    {
     "name": "stdout",
     "output_type": "stream",
     "text": [
      "6.35496073613\n"
     ]
    }
   ],
   "source": [
    "\n",
    "\n",
    "#handle ABV\n",
    "mean_abv = train_Data[\"ABV\"].mean()\n",
    "\n",
    "print(mean_abv)\n",
    "\n",
    "train_Data[\"ABV\"].fillna(mean_abv, inplace=True)"
   ]
  },
  {
   "cell_type": "code",
   "execution_count": 15,
   "metadata": {},
   "outputs": [
    {
     "data": {
      "text/plain": [
       "'40-45'"
      ]
     },
     "execution_count": 15,
     "metadata": {},
     "output_type": "execute_result"
    }
   ],
   "source": [
    "(train_Data[\"Cellar Temperature\"].value_counts().index)[0]"
   ]
  },
  {
   "cell_type": "code",
   "execution_count": 16,
   "metadata": {},
   "outputs": [],
   "source": [
    "train_Data[\"Cellar Temperature\"].fillna((train_Data[\"Cellar Temperature\"].value_counts().index)[0],inplace=True)"
   ]
  },
  {
   "cell_type": "code",
   "execution_count": 17,
   "metadata": {},
   "outputs": [
    {
     "data": {
      "text/plain": [
       "'45-50'"
      ]
     },
     "execution_count": 17,
     "metadata": {},
     "output_type": "execute_result"
    }
   ],
   "source": [
    "(train_Data[\"Serving Temperature\"].value_counts().index)[0]"
   ]
  },
  {
   "cell_type": "code",
   "execution_count": 18,
   "metadata": {},
   "outputs": [],
   "source": [
    "\n",
    "train_Data[\"Serving Temperature\"].fillna((train_Data[\"Cellar Temperature\"].value_counts().index)[0],inplace=True)"
   ]
  },
  {
   "cell_type": "code",
   "execution_count": 19,
   "metadata": {},
   "outputs": [],
   "source": [
    "#converting into float from string\n",
    "train_Data[\"Ratings\"] = train_Data['Ratings'].str.replace(',', '')\n",
    "train_Data[\"Ratings\"] = train_Data['Ratings'].astype(np.float64)"
   ]
  },
  {
   "cell_type": "code",
   "execution_count": 20,
   "metadata": {},
   "outputs": [],
   "source": [
    "cellar_temp_dataframe = pd.get_dummies(train_Data[\"Cellar Temperature\"])"
   ]
  },
  {
   "cell_type": "code",
   "execution_count": 21,
   "metadata": {},
   "outputs": [],
   "source": [
    "serving_temp_dataframe = pd.get_dummies(train_Data[\"Serving Temperature\"])"
   ]
  },
  {
   "cell_type": "code",
   "execution_count": 22,
   "metadata": {},
   "outputs": [],
   "source": [
    "serving_temp_dataframe.rename(columns={\"35-40\": \"s_t1\", \"40-45\": \"s_t2\",\"45-50\":\"s_t3\",\"50-55\":\"s_t4\"},inplace=True)"
   ]
  },
  {
   "cell_type": "code",
   "execution_count": 23,
   "metadata": {},
   "outputs": [],
   "source": [
    "serving_temp_dataframe.reset_index(drop=True,inplace=True)"
   ]
  },
  {
   "cell_type": "code",
   "execution_count": 24,
   "metadata": {},
   "outputs": [],
   "source": [
    "cellar_temp_dataframe.reset_index(drop=True,inplace=True)"
   ]
  },
  {
   "cell_type": "code",
   "execution_count": 25,
   "metadata": {},
   "outputs": [
    {
     "name": "stdout",
     "output_type": "stream",
     "text": [
      "   35-40  40-45  45-50\n",
      "0      1      0      0\n",
      "1      1      0      0\n",
      "2      0      0      1\n",
      "3      0      0      1\n",
      "4      0      1      0\n"
     ]
    }
   ],
   "source": [
    "print(cellar_temp_dataframe.head(n=5))"
   ]
  },
  {
   "cell_type": "code",
   "execution_count": 26,
   "metadata": {},
   "outputs": [],
   "source": [
    "#as of now not taking serving temperature as a input\n",
    "#train_Data_Wo_Serving_Null = train_Data[train_Data[\"Serving Temperature\"].notnull()]"
   ]
  },
  {
   "cell_type": "code",
   "execution_count": 27,
   "metadata": {
    "scrolled": true
   },
   "outputs": [
    {
     "data": {
      "text/plain": [
       "ABV                    0\n",
       "Brewing Company        0\n",
       "Food Paring            0\n",
       "Glassware Used         0\n",
       "Beer Name              0\n",
       "Ratings                0\n",
       "Style Name             0\n",
       "Cellar Temperature     0\n",
       "Serving Temperature    0\n",
       "Score                  0\n",
       "dtype: int64"
      ]
     },
     "execution_count": 27,
     "metadata": {},
     "output_type": "execute_result"
    }
   ],
   "source": [
    "train_Data.isna().sum()"
   ]
  },
  {
   "cell_type": "code",
   "execution_count": 28,
   "metadata": {},
   "outputs": [],
   "source": [
    "#generic function for doing target based en\n",
    "\n",
    "def get_target_based_encoding(dataframe,feature_to_encode,target_feature):\n",
    "    \n",
    "    unique_feature_values = dataframe[feature_to_encode].unique()\n",
    "    \n",
    "    dict_category_value = {}\n",
    "    \n",
    "    for each_category in unique_feature_values:\n",
    "        target_based_category_value = dataframe[ dataframe[feature_to_encode] == each_category] [target_feature]\n",
    "        dict_category_value[each_category] = target_based_category_value.sum() / len(target_based_category_value)\n",
    "    \n",
    "    dataframe[feature_to_encode].replace(to_replace=dict_category_value,inplace=True)\n",
    "        \n",
    "        \n",
    "    \n"
   ]
  },
  {
   "cell_type": "code",
   "execution_count": 29,
   "metadata": {},
   "outputs": [],
   "source": [
    "get_target_based_encoding(train_Data,\"Style Name\",\"Score\")"
   ]
  },
  {
   "cell_type": "code",
   "execution_count": 30,
   "metadata": {},
   "outputs": [],
   "source": [
    "get_target_based_encoding(train_Data,\"Food Paring\",\"Score\")"
   ]
  },
  {
   "cell_type": "code",
   "execution_count": 31,
   "metadata": {},
   "outputs": [],
   "source": [
    "get_target_based_encoding(train_Data,\"Glassware Used\",\"Score\")"
   ]
  },
  {
   "cell_type": "code",
   "execution_count": 32,
   "metadata": {},
   "outputs": [],
   "source": [
    "get_target_based_encoding(train_Data,\"Brewing Company\",\"Score\")"
   ]
  },
  {
   "cell_type": "code",
   "execution_count": 33,
   "metadata": {},
   "outputs": [
    {
     "name": "stdout",
     "output_type": "stream",
     "text": [
      "ABV                    0\n",
      "Brewing Company        0\n",
      "Food Paring            0\n",
      "Glassware Used         0\n",
      "Beer Name              0\n",
      "Ratings                0\n",
      "Style Name             0\n",
      "Cellar Temperature     0\n",
      "Serving Temperature    0\n",
      "Score                  0\n",
      "dtype: int64\n"
     ]
    }
   ],
   "source": [
    "print(train_Data.isna().sum())"
   ]
  },
  {
   "cell_type": "code",
   "execution_count": 34,
   "metadata": {},
   "outputs": [],
   "source": [
    "final_df = pd.concat([train_Data,cellar_temp_dataframe,serving_temp_dataframe],axis=1)"
   ]
  },
  {
   "cell_type": "code",
   "execution_count": 35,
   "metadata": {},
   "outputs": [
    {
     "name": "stdout",
     "output_type": "stream",
     "text": [
      "ABV                    0\n",
      "Brewing Company        0\n",
      "Food Paring            0\n",
      "Glassware Used         0\n",
      "Beer Name              0\n",
      "Ratings                0\n",
      "Style Name             0\n",
      "Cellar Temperature     0\n",
      "Serving Temperature    0\n",
      "Score                  0\n",
      "35-40                  0\n",
      "40-45                  0\n",
      "45-50                  0\n",
      "s_t1                   0\n",
      "s_t2                   0\n",
      "s_t3                   0\n",
      "s_t4                   0\n",
      "dtype: int64\n"
     ]
    }
   ],
   "source": [
    "print(final_df.isna().sum())"
   ]
  },
  {
   "cell_type": "code",
   "execution_count": 36,
   "metadata": {},
   "outputs": [
    {
     "name": "stdout",
     "output_type": "stream",
     "text": [
      "ABV                    float64\n",
      "Brewing Company        float64\n",
      "Food Paring            float64\n",
      "Glassware Used         float64\n",
      "Beer Name                int64\n",
      "Ratings                float64\n",
      "Style Name             float64\n",
      "Cellar Temperature      object\n",
      "Serving Temperature     object\n",
      "Score                  float64\n",
      "35-40                    uint8\n",
      "40-45                    uint8\n",
      "45-50                    uint8\n",
      "s_t1                     uint8\n",
      "s_t2                     uint8\n",
      "s_t3                     uint8\n",
      "s_t4                     uint8\n",
      "dtype: object\n"
     ]
    }
   ],
   "source": [
    "print(final_df.dtypes)"
   ]
  },
  {
   "cell_type": "code",
   "execution_count": 37,
   "metadata": {},
   "outputs": [
    {
     "name": "stdout",
     "output_type": "stream",
     "text": [
      "   Food Paring  Style Name  c_t1  c_t2  c_t3        ABV  Ratings\n",
      "0     3.174928    3.174928     1     0     0   6.000000      4.0\n",
      "1     2.965526    2.965526     1     0     0   5.800000      3.0\n",
      "2     3.304736    3.304736     0     0     1  10.000000      1.0\n",
      "3     3.674808    3.674808     0     0     1   6.000000   1016.0\n",
      "4     3.256399    3.256399     0     1     0   8.500000     33.0\n",
      "5     2.990949    2.990949     0     1     0   6.354961      1.0\n",
      "6     3.495354    3.495354     0     1     0   6.354961      1.0\n",
      "7     3.160955    3.160955     0     0     1   6.700000     13.0\n",
      "8     3.174928    3.174928     1     0     0   6.200000      0.0\n",
      "9     3.067656    3.067656     0     1     0   5.500000      3.0\n"
     ]
    }
   ],
   "source": [
    "final_df.rename(columns={\"35-40\": \"c_t1\", \"40-45\": \"c_t2\",\"45-50\":\"c_t3\"},inplace=True)\n",
    "print(final_df[[\"Food Paring\",\"Style Name\",\"c_t1\", \"c_t2\",\n",
    " \"c_t3\",\"ABV\",\"Ratings\"]].head(n=10))\n"
   ]
  },
  {
   "cell_type": "code",
   "execution_count": 38,
   "metadata": {},
   "outputs": [],
   "source": [
    "columns_to_train = [\"ABV\",\"Brewing Company\",\"Ratings\",\"Style Name\",\"Food Paring\",\"Glassware Used\",\"Score\"]\n"
   ]
  },
  {
   "cell_type": "markdown",
   "metadata": {},
   "source": [
    "# DEFINING HYPERPARAMETER HUNTER ENVIRONMENT WHERE WE WILL MENTION THE DATA\n"
   ]
  },
  {
   "cell_type": "code",
   "execution_count": 39,
   "metadata": {},
   "outputs": [
    {
     "name": "stdout",
     "output_type": "stream",
     "text": [
      "mkdir: cannot create directory ‘hyperparameter_results’: File exists\n"
     ]
    }
   ],
   "source": [
    "!mkdir hyperparameter_results"
   ]
  },
  {
   "cell_type": "code",
   "execution_count": 40,
   "metadata": {},
   "outputs": [
    {
     "name": "stdout",
     "output_type": "stream",
     "text": [
      "Cross-Experiment Key: p8Z-9VmATBVOpSZS7_2Em2-jou21FWBJcb89heDi-Nc=\n"
     ]
    }
   ],
   "source": [
    "#defining the environment for running the experiment\n",
    "env = Environment(\n",
    "        train_dataset=final_df[columns_to_train],\n",
    "        root_results_path=\"hyperparameter_results/\",\n",
    "        target_column=\"Score\",\n",
    "        metrics_map=[\"mean_squared_error\"],\n",
    "        cross_validation_type=KFold,\n",
    "        cross_validation_params=dict(n_splits=10, shuffle=True, random_state=32),\n",
    "    )"
   ]
  },
  {
   "cell_type": "markdown",
   "metadata": {},
   "source": [
    "# DEFINING OPTIMIZER"
   ]
  },
  {
   "cell_type": "code",
   "execution_count": 41,
   "metadata": {},
   "outputs": [
    {
     "name": "stdout",
     "output_type": "stream",
     "text": [
      "Validated Environment with key: \"p8Z-9VmATBVOpSZS7_2Em2-jou21FWBJcb89heDi-Nc=\"\n"
     ]
    }
   ],
   "source": [
    "optimizer = BayesianOptimization(iterations=100, read_experiments=True, random_state=None)"
   ]
  },
  {
   "cell_type": "code",
   "execution_count": 42,
   "metadata": {},
   "outputs": [
    {
     "data": {
      "text/plain": [
       "12"
      ]
     },
     "execution_count": 42,
     "metadata": {},
     "output_type": "execute_result"
    }
   ],
   "source": [
    "import multiprocessing\n",
    "\n",
    "multiprocessing.cpu_count()"
   ]
  },
  {
   "cell_type": "code",
   "execution_count": 43,
   "metadata": {},
   "outputs": [],
   "source": [
    "optimizer.set_experiment_guidelines(\n",
    "            model_initializer = XGBRegressor,\n",
    "            model_init_params=dict(\n",
    "            max_depth=Integer(2, 40),\n",
    "            learning_rate=Real(0.0001, 0.5),\n",
    "            n_estimators=Integer(200,600),\n",
    "            min_child_weight = Integer(1,6),\n",
    "            booster= 'gbtree',\n",
    "            subsample = Real(0.5,1),\n",
    "            colsample_bytree=Real(0.5,1),\n",
    "            eval_metric = 'rmse',\n",
    "            reg_lambda = Real(0.5,1),\n",
    "            reg_alpha = Real(0.5,1),\n",
    "            nthread = 12\n",
    " ,))"
   ]
  },
  {
   "cell_type": "code",
   "execution_count": null,
   "metadata": {},
   "outputs": [
    {
     "name": "stdout",
     "output_type": "stream",
     "text": [
      "\u001b[31mSaved Result Files\u001b[0m\n",
      "\u001b[31m______________________________________________________________________________________________________________________________________________________________________________\u001b[0m\n",
      " Step |       ID |   Time |      Value |   colsample_bytree |   learning_rate |   max_depth |   min_child_weight |   n_estimators |   reg_alpha |   reg_lambda |   subsample | \n",
      "Experiments matching cross-experiment key and algorithm: 0\n",
      "Experiments fitting in the given space: 0\n",
      "Experiments matching current guidelines: 0\n",
      "\u001b[31mHyperparameter Optimization\u001b[0m\n",
      "\u001b[31m______________________________________________________________________________________________________________________________________________________________________________\u001b[0m\n",
      " Step |       ID |   Time |      Value |   colsample_bytree |   learning_rate |   max_depth |   min_child_weight |   n_estimators |   reg_alpha |   reg_lambda |   subsample | \n",
      "    0 | c6bfadb8 | 08m53s | \u001b[35m   0.12129\u001b[0m | \u001b[32m            0.9081\u001b[0m | \u001b[32m         0.1864\u001b[0m | \u001b[32m         35\u001b[0m | \u001b[32m                 6\u001b[0m | \u001b[32m           422\u001b[0m | \u001b[32m     0.5505\u001b[0m | \u001b[32m      0.9642\u001b[0m | \u001b[32m     0.8683\u001b[0m | \n",
      "    1 | 72ee3de2 | 03m46s | \u001b[35m   0.12168\u001b[0m | \u001b[32m            0.7209\u001b[0m | \u001b[32m         0.2983\u001b[0m | \u001b[32m         25\u001b[0m | \u001b[32m                 3\u001b[0m | \u001b[32m           237\u001b[0m | \u001b[32m     0.7757\u001b[0m | \u001b[32m      0.8519\u001b[0m | \u001b[32m     0.8314\u001b[0m | \n",
      "    2 | 67a3d4c6 | 04m52s |    0.10717 |             0.5465 |          0.0251 |          24 |                  5 |            425 |      0.9513 |       0.7305 |      0.9555 | \n",
      "    3 | 0ba3d935 | 03m58s | \u001b[35m   0.14568\u001b[0m | \u001b[32m            0.9054\u001b[0m | \u001b[32m         0.4997\u001b[0m | \u001b[32m         19\u001b[0m | \u001b[32m                 5\u001b[0m | \u001b[32m           265\u001b[0m | \u001b[32m     0.5176\u001b[0m | \u001b[32m      0.7674\u001b[0m | \u001b[32m     0.5803\u001b[0m | \n",
      "    4 | 786acb4d | 01m06s |    0.10288 |             0.8912 |          0.1543 |           8 |                  2 |            218 |      0.8476 |       0.6645 |      0.8374 | \n",
      "    5 | a33de370 | 03m54s |    0.11457 |             0.7506 |          0.2621 |          21 |                  3 |            319 |      0.6990 |       0.8640 |      0.9924 | \n",
      "    6 | 6057837a | 03m20s |    0.14472 |             0.5035 |          0.0132 |          35 |                  5 |            316 |      0.7097 |       0.6653 |      0.7286 | \n"
     ]
    }
   ],
   "source": [
    "optimizer.go()"
   ]
  },
  {
   "cell_type": "code",
   "execution_count": 88,
   "metadata": {
    "scrolled": false
   },
   "outputs": [
    {
     "name": "stdout",
     "output_type": "stream",
     "text": [
      "[0.17265452 0.4482377  0.11910438 0.12740508 0.05303933 0.079559  ]\n"
     ]
    },
    {
     "data": {
      "image/png": "[encoded data removed]",
      "text/plain": [
       "<Figure size 432x288 with 1 Axes>"
      ]
     },
     "metadata": {},
     "output_type": "display_data"
    }
   ],
   "source": [
    "print(xg_model.feature_importances_)\n",
    "# plot\n",
    "plt.bar(range(len(xg_model.feature_importances_)), xg_model.feature_importances_)\n",
    "plt.show()"
   ]
  },
  {
   "cell_type": "code",
   "execution_count": 46,
   "metadata": {},
   "outputs": [],
   "source": [
    "def train_xg_boost(params):\n",
    "\n",
    "    \n",
    "    xg_model = XGBRegressor(n_estimators=int(params['n_estimators']), learning_rate=params['eta'], n_jobs=-1,\n",
    "                            max_depth=int(params['max_depth']), gamma=params['gamma'], colsample_bytree=params['colsample_bytree'],\n",
    "                            min_child_weight=params['min_child_weight'], reg_alpha=params['xg_reg_alpha'], subsample=params['subsample'],\n",
    "                            reg_lambda=params['xg_reg_lambda']\n",
    "                            )\n",
    "    \n",
    "    \n",
    "    print(\"hyperparameters\",params)\n",
    "    # In[ ]:\n",
    "\n",
    "    xg_model.fit(X_train.values, y_train.values)\n",
    "\n",
    "    # In[68]:\n",
    "\n",
    "    training_values = xg_model.predict(X_train.values)\n",
    "    print(training_values)\n",
    "        \n",
    "    training_rmse = math.sqrt(mean_squared_error(y_train, training_values))\n",
    "    \n",
    "    print(\"training_rmse\", training_rmse)\n",
    "    validation_values = xg_model.predict(X_validtn.values)\n",
    "    validation_rmse = math.sqrt(mean_squared_error(y_validtn, validation_values))\n",
    "    print(\"validation_rmse\", validation_rmse)\n",
    "\n",
    "    return {'loss': validation_rmse,\n",
    "        'status': STATUS_OK,\n",
    "        'eval_time': time.time(),\n",
    "        }\n",
    "\n",
    "\n",
    "\n"
   ]
  },
  {
   "cell_type": "code",
   "execution_count": 47,
   "metadata": {},
   "outputs": [],
   "source": [
    "trials = Trials()"
   ]
  },
  {
   "cell_type": "code",
   "execution_count": 48,
   "metadata": {
    "scrolled": true
   },
   "outputs": [
    {
     "name": "stdout",
     "output_type": "stream",
     "text": [
      "hyperparameters {'colsample_bytree': 0.65, 'eta': 0.225, 'gamma': 0.9, 'max_depth': 23, 'min_child_weight': 5.0, 'n_estimators': 619.2851112447337, 'nthread': 4, 'subsample': 0.8500000000000001, 'xg_reg_alpha': 2.5394229540700293, 'xg_reg_lambda': 1.096490424649413}\n",
      "[3.458109  4.043931  3.716856  ... 3.6626444 4.121209  4.1531   ]\n",
      "training_rmse 0.3023773217761993\n",
      "validation_rmse 0.32327219499451565\n",
      "hyperparameters {'colsample_bytree': 0.7000000000000001, 'eta': 0.17500000000000002, 'gamma': 1.0, 'max_depth': 21, 'min_child_weight': 2.0, 'n_estimators': 494.28378768282244, 'nthread': 4, 'subsample': 1.0, 'xg_reg_alpha': 2.327786264388546, 'xg_reg_lambda': 2.0189639326064923}\n",
      "[3.2930486 4.0135746 3.709317  ... 3.6374972 4.128394  4.1588755]\n",
      "training_rmse 0.3101500083051247\n",
      "validation_rmse 0.32389920230991587\n",
      "hyperparameters {'colsample_bytree': 0.8, 'eta': 0.225, 'gamma': 0.75, 'max_depth': 56, 'min_child_weight': 3.0, 'n_estimators': 751.4685744131002, 'nthread': 4, 'subsample': 0.6000000000000001, 'xg_reg_alpha': 1.5194444661250508, 'xg_reg_lambda': 1.1115726992114072}\n",
      "[3.6724048 4.0793467 3.734897  ... 3.789658  4.150961  4.1472096]\n",
      "training_rmse 0.2764235172478307\n",
      "validation_rmse 0.32647804284228954\n",
      "hyperparameters {'colsample_bytree': 0.9500000000000001, 'eta': 0.2, 'gamma': 0.9, 'max_depth': 59, 'min_child_weight': 3.0, 'n_estimators': 566.7537131893232, 'nthread': 4, 'subsample': 0.55, 'xg_reg_alpha': 2.5552967144824965, 'xg_reg_lambda': 2.447471247321375}\n",
      "[3.510515  4.046141  3.676435  ... 3.6393404 4.114874  4.174361 ]\n",
      "training_rmse 0.3018488377675837\n",
      "validation_rmse 0.3262766612066221\n",
      "hyperparameters {'colsample_bytree': 0.75, 'eta': 0.375, 'gamma': 0.65, 'max_depth': 18, 'min_child_weight': 4.0, 'n_estimators': 115.54198955711014, 'nthread': 4, 'subsample': 0.7000000000000001, 'xg_reg_alpha': 2.304609071797653, 'xg_reg_lambda': 1.8916987059678245}\n",
      "[3.3149738 4.0360837 3.7193363 ... 3.66338   4.1185446 4.1354427]\n",
      "training_rmse 0.3036086314585856\n",
      "validation_rmse 0.32491435228682397\n",
      "hyperparameters {'colsample_bytree': 0.55, 'eta': 0.17500000000000002, 'gamma': 0.55, 'max_depth': 28, 'min_child_weight': 1.0, 'n_estimators': 339.0543319015504, 'nthread': 4, 'subsample': 0.75, 'xg_reg_alpha': 2.42189408243089, 'xg_reg_lambda': 1.933984051770632}\n",
      "[3.4922278 4.065153  3.7265017 ... 3.7117794 4.10918   4.1449404]\n",
      "training_rmse 0.29838590370596807\n",
      "validation_rmse 0.32257452430522077\n",
      "hyperparameters {'colsample_bytree': 0.75, 'eta': 0.1, 'gamma': 0.7000000000000001, 'max_depth': 31, 'min_child_weight': 3.0, 'n_estimators': 571.5102780838279, 'nthread': 4, 'subsample': 0.9, 'xg_reg_alpha': 2.6762446446763444, 'xg_reg_lambda': 2.447953436884636}\n"
     ]
    },
    {
     "ename": "KeyboardInterrupt",
     "evalue": "",
     "output_type": "error",
     "traceback": [
      "\u001b[0;31m---------------------------------------------------------------------------\u001b[0m",
      "\u001b[0;31mKeyboardInterrupt\u001b[0m                         Traceback (most recent call last)",
      "\u001b[0;32m<ipython-input-48-ab0106970e0a>\u001b[0m in \u001b[0;36m<module>\u001b[0;34m()\u001b[0m\n\u001b[0;32m----> 1\u001b[0;31m \u001b[0mbest\u001b[0m \u001b[0;34m=\u001b[0m \u001b[0mfmin\u001b[0m\u001b[0;34m(\u001b[0m\u001b[0mfn\u001b[0m\u001b[0;34m=\u001b[0m\u001b[0mtrain_xg_boost\u001b[0m\u001b[0;34m,\u001b[0m \u001b[0mspace\u001b[0m\u001b[0;34m=\u001b[0m\u001b[0mspace\u001b[0m\u001b[0;34m,\u001b[0m \u001b[0malgo\u001b[0m\u001b[0;34m=\u001b[0m\u001b[0mtpe\u001b[0m\u001b[0;34m.\u001b[0m\u001b[0msuggest\u001b[0m\u001b[0;34m,\u001b[0m\u001b[0mmax_evals\u001b[0m\u001b[0;34m=\u001b[0m\u001b[0;36m100\u001b[0m\u001b[0;34m,\u001b[0m\u001b[0mtrials\u001b[0m\u001b[0;34m=\u001b[0m\u001b[0mtrials\u001b[0m\u001b[0;34m)\u001b[0m\u001b[0;34m\u001b[0m\u001b[0m\n\u001b[0m",
      "\u001b[0;32m~/anaconda3/lib/python3.6/site-packages/hyperopt/fmin.py\u001b[0m in \u001b[0;36mfmin\u001b[0;34m(fn, space, algo, max_evals, trials, rstate, allow_trials_fmin, pass_expr_memo_ctrl, catch_eval_exceptions, verbose, return_argmin, points_to_evaluate, max_queue_len)\u001b[0m\n\u001b[1;32m    365\u001b[0m             \u001b[0mverbose\u001b[0m\u001b[0;34m=\u001b[0m\u001b[0mverbose\u001b[0m\u001b[0;34m,\u001b[0m\u001b[0;34m\u001b[0m\u001b[0m\n\u001b[1;32m    366\u001b[0m             \u001b[0mcatch_eval_exceptions\u001b[0m\u001b[0;34m=\u001b[0m\u001b[0mcatch_eval_exceptions\u001b[0m\u001b[0;34m,\u001b[0m\u001b[0;34m\u001b[0m\u001b[0m\n\u001b[0;32m--> 367\u001b[0;31m             \u001b[0mreturn_argmin\u001b[0m\u001b[0;34m=\u001b[0m\u001b[0mreturn_argmin\u001b[0m\u001b[0;34m,\u001b[0m\u001b[0;34m\u001b[0m\u001b[0m\n\u001b[0m\u001b[1;32m    368\u001b[0m         )\n\u001b[1;32m    369\u001b[0m \u001b[0;34m\u001b[0m\u001b[0m\n",
      "\u001b[0;32m~/anaconda3/lib/python3.6/site-packages/hyperopt/base.py\u001b[0m in \u001b[0;36mfmin\u001b[0;34m(self, fn, space, algo, max_evals, rstate, verbose, pass_expr_memo_ctrl, catch_eval_exceptions, return_argmin)\u001b[0m\n\u001b[1;32m    633\u001b[0m             \u001b[0mpass_expr_memo_ctrl\u001b[0m\u001b[0;34m=\u001b[0m\u001b[0mpass_expr_memo_ctrl\u001b[0m\u001b[0;34m,\u001b[0m\u001b[0;34m\u001b[0m\u001b[0m\n\u001b[1;32m    634\u001b[0m             \u001b[0mcatch_eval_exceptions\u001b[0m\u001b[0;34m=\u001b[0m\u001b[0mcatch_eval_exceptions\u001b[0m\u001b[0;34m,\u001b[0m\u001b[0;34m\u001b[0m\u001b[0m\n\u001b[0;32m--> 635\u001b[0;31m             return_argmin=return_argmin)\n\u001b[0m\u001b[1;32m    636\u001b[0m \u001b[0;34m\u001b[0m\u001b[0m\n\u001b[1;32m    637\u001b[0m \u001b[0;34m\u001b[0m\u001b[0m\n",
      "\u001b[0;32m~/anaconda3/lib/python3.6/site-packages/hyperopt/fmin.py\u001b[0m in \u001b[0;36mfmin\u001b[0;34m(fn, space, algo, max_evals, trials, rstate, allow_trials_fmin, pass_expr_memo_ctrl, catch_eval_exceptions, verbose, return_argmin, points_to_evaluate, max_queue_len)\u001b[0m\n\u001b[1;32m    383\u001b[0m                     max_queue_len=max_queue_len)\n\u001b[1;32m    384\u001b[0m     \u001b[0mrval\u001b[0m\u001b[0;34m.\u001b[0m\u001b[0mcatch_eval_exceptions\u001b[0m \u001b[0;34m=\u001b[0m \u001b[0mcatch_eval_exceptions\u001b[0m\u001b[0;34m\u001b[0m\u001b[0m\n\u001b[0;32m--> 385\u001b[0;31m     \u001b[0mrval\u001b[0m\u001b[0;34m.\u001b[0m\u001b[0mexhaust\u001b[0m\u001b[0;34m(\u001b[0m\u001b[0;34m)\u001b[0m\u001b[0;34m\u001b[0m\u001b[0m\n\u001b[0m\u001b[1;32m    386\u001b[0m     \u001b[0;32mif\u001b[0m \u001b[0mreturn_argmin\u001b[0m\u001b[0;34m:\u001b[0m\u001b[0;34m\u001b[0m\u001b[0m\n\u001b[1;32m    387\u001b[0m         \u001b[0;32mreturn\u001b[0m \u001b[0mtrials\u001b[0m\u001b[0;34m.\u001b[0m\u001b[0margmin\u001b[0m\u001b[0;34m\u001b[0m\u001b[0m\n",
      "\u001b[0;32m~/anaconda3/lib/python3.6/site-packages/hyperopt/fmin.py\u001b[0m in \u001b[0;36mexhaust\u001b[0;34m(self)\u001b[0m\n\u001b[1;32m    242\u001b[0m     \u001b[0;32mdef\u001b[0m \u001b[0mexhaust\u001b[0m\u001b[0;34m(\u001b[0m\u001b[0mself\u001b[0m\u001b[0;34m)\u001b[0m\u001b[0;34m:\u001b[0m\u001b[0;34m\u001b[0m\u001b[0m\n\u001b[1;32m    243\u001b[0m         \u001b[0mn_done\u001b[0m \u001b[0;34m=\u001b[0m \u001b[0mlen\u001b[0m\u001b[0;34m(\u001b[0m\u001b[0mself\u001b[0m\u001b[0;34m.\u001b[0m\u001b[0mtrials\u001b[0m\u001b[0;34m)\u001b[0m\u001b[0;34m\u001b[0m\u001b[0m\n\u001b[0;32m--> 244\u001b[0;31m         \u001b[0mself\u001b[0m\u001b[0;34m.\u001b[0m\u001b[0mrun\u001b[0m\u001b[0;34m(\u001b[0m\u001b[0mself\u001b[0m\u001b[0;34m.\u001b[0m\u001b[0mmax_evals\u001b[0m \u001b[0;34m-\u001b[0m \u001b[0mn_done\u001b[0m\u001b[0;34m,\u001b[0m \u001b[0mblock_until_done\u001b[0m\u001b[0;34m=\u001b[0m\u001b[0mself\u001b[0m\u001b[0;34m.\u001b[0m\u001b[0masynchronous\u001b[0m\u001b[0;34m)\u001b[0m\u001b[0;34m\u001b[0m\u001b[0m\n\u001b[0m\u001b[1;32m    245\u001b[0m         \u001b[0mself\u001b[0m\u001b[0;34m.\u001b[0m\u001b[0mtrials\u001b[0m\u001b[0;34m.\u001b[0m\u001b[0mrefresh\u001b[0m\u001b[0;34m(\u001b[0m\u001b[0;34m)\u001b[0m\u001b[0;34m\u001b[0m\u001b[0m\n\u001b[1;32m    246\u001b[0m         \u001b[0;32mreturn\u001b[0m \u001b[0mself\u001b[0m\u001b[0;34m\u001b[0m\u001b[0m\n",
      "\u001b[0;32m~/anaconda3/lib/python3.6/site-packages/hyperopt/fmin.py\u001b[0m in \u001b[0;36mrun\u001b[0;34m(self, N, block_until_done)\u001b[0m\n\u001b[1;32m    216\u001b[0m             \u001b[0;32melse\u001b[0m\u001b[0;34m:\u001b[0m\u001b[0;34m\u001b[0m\u001b[0m\n\u001b[1;32m    217\u001b[0m                 \u001b[0;31m# -- loop over trials and do the jobs directly\u001b[0m\u001b[0;34m\u001b[0m\u001b[0;34m\u001b[0m\u001b[0m\n\u001b[0;32m--> 218\u001b[0;31m                 \u001b[0mself\u001b[0m\u001b[0;34m.\u001b[0m\u001b[0mserial_evaluate\u001b[0m\u001b[0;34m(\u001b[0m\u001b[0;34m)\u001b[0m\u001b[0;34m\u001b[0m\u001b[0m\n\u001b[0m\u001b[1;32m    219\u001b[0m \u001b[0;34m\u001b[0m\u001b[0m\n\u001b[1;32m    220\u001b[0m             \u001b[0;32mif\u001b[0m \u001b[0mstopped\u001b[0m\u001b[0;34m:\u001b[0m\u001b[0;34m\u001b[0m\u001b[0m\n",
      "\u001b[0;32m~/anaconda3/lib/python3.6/site-packages/hyperopt/fmin.py\u001b[0m in \u001b[0;36mserial_evaluate\u001b[0;34m(self, N)\u001b[0m\n\u001b[1;32m    135\u001b[0m                 \u001b[0mctrl\u001b[0m \u001b[0;34m=\u001b[0m \u001b[0mbase\u001b[0m\u001b[0;34m.\u001b[0m\u001b[0mCtrl\u001b[0m\u001b[0;34m(\u001b[0m\u001b[0mself\u001b[0m\u001b[0;34m.\u001b[0m\u001b[0mtrials\u001b[0m\u001b[0;34m,\u001b[0m \u001b[0mcurrent_trial\u001b[0m\u001b[0;34m=\u001b[0m\u001b[0mtrial\u001b[0m\u001b[0;34m)\u001b[0m\u001b[0;34m\u001b[0m\u001b[0m\n\u001b[1;32m    136\u001b[0m                 \u001b[0;32mtry\u001b[0m\u001b[0;34m:\u001b[0m\u001b[0;34m\u001b[0m\u001b[0m\n\u001b[0;32m--> 137\u001b[0;31m                     \u001b[0mresult\u001b[0m \u001b[0;34m=\u001b[0m \u001b[0mself\u001b[0m\u001b[0;34m.\u001b[0m\u001b[0mdomain\u001b[0m\u001b[0;34m.\u001b[0m\u001b[0mevaluate\u001b[0m\u001b[0;34m(\u001b[0m\u001b[0mspec\u001b[0m\u001b[0;34m,\u001b[0m \u001b[0mctrl\u001b[0m\u001b[0;34m)\u001b[0m\u001b[0;34m\u001b[0m\u001b[0m\n\u001b[0m\u001b[1;32m    138\u001b[0m                 \u001b[0;32mexcept\u001b[0m \u001b[0mException\u001b[0m \u001b[0;32mas\u001b[0m \u001b[0me\u001b[0m\u001b[0;34m:\u001b[0m\u001b[0;34m\u001b[0m\u001b[0m\n\u001b[1;32m    139\u001b[0m                     \u001b[0mlogger\u001b[0m\u001b[0;34m.\u001b[0m\u001b[0minfo\u001b[0m\u001b[0;34m(\u001b[0m\u001b[0;34m'job exception: %s'\u001b[0m \u001b[0;34m%\u001b[0m \u001b[0mstr\u001b[0m\u001b[0;34m(\u001b[0m\u001b[0me\u001b[0m\u001b[0;34m)\u001b[0m\u001b[0;34m)\u001b[0m\u001b[0;34m\u001b[0m\u001b[0m\n",
      "\u001b[0;32m~/anaconda3/lib/python3.6/site-packages/hyperopt/base.py\u001b[0m in \u001b[0;36mevaluate\u001b[0;34m(self, config, ctrl, attach_attachments)\u001b[0m\n\u001b[1;32m    838\u001b[0m                 \u001b[0mmemo\u001b[0m\u001b[0;34m=\u001b[0m\u001b[0mmemo\u001b[0m\u001b[0;34m,\u001b[0m\u001b[0;34m\u001b[0m\u001b[0m\n\u001b[1;32m    839\u001b[0m                 print_node_on_error=self.rec_eval_print_node_on_error)\n\u001b[0;32m--> 840\u001b[0;31m             \u001b[0mrval\u001b[0m \u001b[0;34m=\u001b[0m \u001b[0mself\u001b[0m\u001b[0;34m.\u001b[0m\u001b[0mfn\u001b[0m\u001b[0;34m(\u001b[0m\u001b[0mpyll_rval\u001b[0m\u001b[0;34m)\u001b[0m\u001b[0;34m\u001b[0m\u001b[0m\n\u001b[0m\u001b[1;32m    841\u001b[0m \u001b[0;34m\u001b[0m\u001b[0m\n\u001b[1;32m    842\u001b[0m         \u001b[0;32mif\u001b[0m \u001b[0misinstance\u001b[0m\u001b[0;34m(\u001b[0m\u001b[0mrval\u001b[0m\u001b[0;34m,\u001b[0m \u001b[0;34m(\u001b[0m\u001b[0mfloat\u001b[0m\u001b[0;34m,\u001b[0m \u001b[0mint\u001b[0m\u001b[0;34m,\u001b[0m \u001b[0mnp\u001b[0m\u001b[0;34m.\u001b[0m\u001b[0mnumber\u001b[0m\u001b[0;34m)\u001b[0m\u001b[0;34m)\u001b[0m\u001b[0;34m:\u001b[0m\u001b[0;34m\u001b[0m\u001b[0m\n",
      "\u001b[0;32m<ipython-input-46-60d49fd2f3b5>\u001b[0m in \u001b[0;36mtrain_xg_boost\u001b[0;34m(params)\u001b[0m\n\u001b[1;32m     12\u001b[0m     \u001b[0;31m# In[ ]:\u001b[0m\u001b[0;34m\u001b[0m\u001b[0;34m\u001b[0m\u001b[0m\n\u001b[1;32m     13\u001b[0m \u001b[0;34m\u001b[0m\u001b[0m\n\u001b[0;32m---> 14\u001b[0;31m     \u001b[0mxg_model\u001b[0m\u001b[0;34m.\u001b[0m\u001b[0mfit\u001b[0m\u001b[0;34m(\u001b[0m\u001b[0mX_train\u001b[0m\u001b[0;34m.\u001b[0m\u001b[0mvalues\u001b[0m\u001b[0;34m,\u001b[0m \u001b[0my_train\u001b[0m\u001b[0;34m.\u001b[0m\u001b[0mvalues\u001b[0m\u001b[0;34m)\u001b[0m\u001b[0;34m\u001b[0m\u001b[0m\n\u001b[0m\u001b[1;32m     15\u001b[0m \u001b[0;34m\u001b[0m\u001b[0m\n\u001b[1;32m     16\u001b[0m     \u001b[0;31m# In[68]:\u001b[0m\u001b[0;34m\u001b[0m\u001b[0;34m\u001b[0m\u001b[0m\n",
      "\u001b[0;32m~/anaconda3/lib/python3.6/site-packages/xgboost/sklearn.py\u001b[0m in \u001b[0;36mfit\u001b[0;34m(self, X, y, sample_weight, eval_set, eval_metric, early_stopping_rounds, verbose, xgb_model, sample_weight_eval_set)\u001b[0m\n\u001b[1;32m    322\u001b[0m                               \u001b[0mearly_stopping_rounds\u001b[0m\u001b[0;34m=\u001b[0m\u001b[0mearly_stopping_rounds\u001b[0m\u001b[0;34m,\u001b[0m\u001b[0;34m\u001b[0m\u001b[0m\n\u001b[1;32m    323\u001b[0m                               \u001b[0mevals_result\u001b[0m\u001b[0;34m=\u001b[0m\u001b[0mevals_result\u001b[0m\u001b[0;34m,\u001b[0m \u001b[0mobj\u001b[0m\u001b[0;34m=\u001b[0m\u001b[0mobj\u001b[0m\u001b[0;34m,\u001b[0m \u001b[0mfeval\u001b[0m\u001b[0;34m=\u001b[0m\u001b[0mfeval\u001b[0m\u001b[0;34m,\u001b[0m\u001b[0;34m\u001b[0m\u001b[0m\n\u001b[0;32m--> 324\u001b[0;31m                               verbose_eval=verbose, xgb_model=xgb_model)\n\u001b[0m\u001b[1;32m    325\u001b[0m \u001b[0;34m\u001b[0m\u001b[0m\n\u001b[1;32m    326\u001b[0m         \u001b[0;32mif\u001b[0m \u001b[0mevals_result\u001b[0m\u001b[0;34m:\u001b[0m\u001b[0;34m\u001b[0m\u001b[0m\n",
      "\u001b[0;32m~/anaconda3/lib/python3.6/site-packages/xgboost/training.py\u001b[0m in \u001b[0;36mtrain\u001b[0;34m(params, dtrain, num_boost_round, evals, obj, feval, maximize, early_stopping_rounds, evals_result, verbose_eval, xgb_model, callbacks, learning_rates)\u001b[0m\n\u001b[1;32m    202\u001b[0m                            \u001b[0mevals\u001b[0m\u001b[0;34m=\u001b[0m\u001b[0mevals\u001b[0m\u001b[0;34m,\u001b[0m\u001b[0;34m\u001b[0m\u001b[0m\n\u001b[1;32m    203\u001b[0m                            \u001b[0mobj\u001b[0m\u001b[0;34m=\u001b[0m\u001b[0mobj\u001b[0m\u001b[0;34m,\u001b[0m \u001b[0mfeval\u001b[0m\u001b[0;34m=\u001b[0m\u001b[0mfeval\u001b[0m\u001b[0;34m,\u001b[0m\u001b[0;34m\u001b[0m\u001b[0m\n\u001b[0;32m--> 204\u001b[0;31m                            xgb_model=xgb_model, callbacks=callbacks)\n\u001b[0m\u001b[1;32m    205\u001b[0m \u001b[0;34m\u001b[0m\u001b[0m\n\u001b[1;32m    206\u001b[0m \u001b[0;34m\u001b[0m\u001b[0m\n",
      "\u001b[0;32m~/anaconda3/lib/python3.6/site-packages/xgboost/training.py\u001b[0m in \u001b[0;36m_train_internal\u001b[0;34m(params, dtrain, num_boost_round, evals, obj, feval, xgb_model, callbacks)\u001b[0m\n\u001b[1;32m     72\u001b[0m         \u001b[0;31m# Skip the first update if it is a recovery step.\u001b[0m\u001b[0;34m\u001b[0m\u001b[0;34m\u001b[0m\u001b[0m\n\u001b[1;32m     73\u001b[0m         \u001b[0;32mif\u001b[0m \u001b[0mversion\u001b[0m \u001b[0;34m%\u001b[0m \u001b[0;36m2\u001b[0m \u001b[0;34m==\u001b[0m \u001b[0;36m0\u001b[0m\u001b[0;34m:\u001b[0m\u001b[0;34m\u001b[0m\u001b[0m\n\u001b[0;32m---> 74\u001b[0;31m             \u001b[0mbst\u001b[0m\u001b[0;34m.\u001b[0m\u001b[0mupdate\u001b[0m\u001b[0;34m(\u001b[0m\u001b[0mdtrain\u001b[0m\u001b[0;34m,\u001b[0m \u001b[0mi\u001b[0m\u001b[0;34m,\u001b[0m \u001b[0mobj\u001b[0m\u001b[0;34m)\u001b[0m\u001b[0;34m\u001b[0m\u001b[0m\n\u001b[0m\u001b[1;32m     75\u001b[0m             \u001b[0mbst\u001b[0m\u001b[0;34m.\u001b[0m\u001b[0msave_rabit_checkpoint\u001b[0m\u001b[0;34m(\u001b[0m\u001b[0;34m)\u001b[0m\u001b[0;34m\u001b[0m\u001b[0m\n\u001b[1;32m     76\u001b[0m             \u001b[0mversion\u001b[0m \u001b[0;34m+=\u001b[0m \u001b[0;36m1\u001b[0m\u001b[0;34m\u001b[0m\u001b[0m\n",
      "\u001b[0;32m~/anaconda3/lib/python3.6/site-packages/xgboost/core.py\u001b[0m in \u001b[0;36mupdate\u001b[0;34m(self, dtrain, iteration, fobj)\u001b[0m\n\u001b[1;32m   1019\u001b[0m         \u001b[0;32mif\u001b[0m \u001b[0mfobj\u001b[0m \u001b[0;32mis\u001b[0m \u001b[0;32mNone\u001b[0m\u001b[0;34m:\u001b[0m\u001b[0;34m\u001b[0m\u001b[0m\n\u001b[1;32m   1020\u001b[0m             _check_call(_LIB.XGBoosterUpdateOneIter(self.handle, ctypes.c_int(iteration),\n\u001b[0;32m-> 1021\u001b[0;31m                                                     dtrain.handle))\n\u001b[0m\u001b[1;32m   1022\u001b[0m         \u001b[0;32melse\u001b[0m\u001b[0;34m:\u001b[0m\u001b[0;34m\u001b[0m\u001b[0m\n\u001b[1;32m   1023\u001b[0m             \u001b[0mpred\u001b[0m \u001b[0;34m=\u001b[0m \u001b[0mself\u001b[0m\u001b[0;34m.\u001b[0m\u001b[0mpredict\u001b[0m\u001b[0;34m(\u001b[0m\u001b[0mdtrain\u001b[0m\u001b[0;34m)\u001b[0m\u001b[0;34m\u001b[0m\u001b[0m\n",
      "\u001b[0;31mKeyboardInterrupt\u001b[0m: "
     ]
    }
   ],
   "source": [
    "best = fmin(fn=train_xg_boost, space=space, algo=tpe.suggest,max_evals=100,trials=trials)\n",
    "\n"
   ]
  },
  {
   "cell_type": "code",
   "execution_count": null,
   "metadata": {},
   "outputs": [],
   "source": []
  }
 ],
 "metadata": {
  "kernelspec": {
   "display_name": "Python 3",
   "language": "python",
   "name": "python3"
  },
  "language_info": {
   "codemirror_mode": {
    "name": "ipython",
    "version": 3
   },
   "file_extension": ".py",
   "mimetype": "text/x-python",
   "name": "python",
   "nbconvert_exporter": "python",
   "pygments_lexer": "ipython3",
   "version": "3.6.6"
  }
 },
 "nbformat": 4,
 "nbformat_minor": 2
}
