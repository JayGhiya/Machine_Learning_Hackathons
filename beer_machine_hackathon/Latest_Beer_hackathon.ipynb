{
 "cells": [
  {
   "cell_type": "code",
   "execution_count": 1,
   "metadata": {},
   "outputs": [
    {
     "name": "stdout",
     "output_type": "stream",
     "text": [
      "Requirement already satisfied: pandas in /home/bumblebee/anaconda3/lib/python3.6/site-packages (0.23.0)\n",
      "Requirement already satisfied: python-dateutil>=2.5.0 in /home/bumblebee/anaconda3/lib/python3.6/site-packages (from pandas) (2.7.3)\n",
      "Requirement already satisfied: pytz>=2011k in /home/bumblebee/anaconda3/lib/python3.6/site-packages (from pandas) (2018.4)\n",
      "Requirement already satisfied: numpy>=1.9.0 in /home/bumblebee/anaconda3/lib/python3.6/site-packages (from pandas) (1.14.3)\n",
      "Requirement already satisfied: six>=1.5 in /home/bumblebee/anaconda3/lib/python3.6/site-packages (from python-dateutil>=2.5.0->pandas) (1.11.0)\n",
      "\u001b[31mdistributed 1.21.8 requires msgpack, which is not installed.\u001b[0m\n",
      "\u001b[33mYou are using pip version 10.0.1, however version 18.0 is available.\n",
      "You should consider upgrading via the 'pip install --upgrade pip' command.\u001b[0m\n"
     ]
    }
   ],
   "source": [
    "!pip install pandas"
   ]
  },
  {
   "cell_type": "code",
   "execution_count": 2,
   "metadata": {},
   "outputs": [
    {
     "name": "stdout",
     "output_type": "stream",
     "text": [
      "Collecting pip\n",
      "\u001b[?25l  Downloading https://files.pythonhosted.org/packages/5f/25/e52d3f31441505a5f3af41213346e5b6c221c9e086a166f3703d2ddaf940/pip-18.0-py2.py3-none-any.whl (1.3MB)\n",
      "\u001b[K    100% |████████████████████████████████| 1.3MB 3.1MB/s ta 0:00:01\n",
      "\u001b[31mdistributed 1.21.8 requires msgpack, which is not installed.\u001b[0m\n",
      "\u001b[?25hInstalling collected packages: pip\n",
      "  Found existing installation: pip 10.0.1\n",
      "    Uninstalling pip-10.0.1:\n",
      "      Successfully uninstalled pip-10.0.1\n",
      "Successfully installed pip-18.0\n"
     ]
    }
   ],
   "source": [
    "!pip install --upgrade pip"
   ]
  },
  {
   "cell_type": "code",
   "execution_count": 5,
   "metadata": {},
   "outputs": [
    {
     "name": "stdout",
     "output_type": "stream",
     "text": [
      "Collecting msgpack\n",
      "\u001b[?25l  Downloading https://files.pythonhosted.org/packages/22/4e/dcf124fd97e5f5611123d6ad9f40ffd6eb979d1efdc1049e28a795672fcd/msgpack-0.5.6-cp36-cp36m-manylinux1_x86_64.whl (315kB)\n",
      "\u001b[K    100% |████████████████████████████████| 317kB 4.5MB/s ta 0:00:01\n",
      "\u001b[?25hInstalling collected packages: msgpack\n",
      "Successfully installed msgpack-0.5.6\n"
     ]
    }
   ],
   "source": [
    "!pip install msgpack"
   ]
  },
  {
   "cell_type": "code",
   "execution_count": 55,
   "metadata": {},
   "outputs": [
    {
     "name": "stdout",
     "output_type": "stream",
     "text": [
      "Collecting xgboost\n",
      "\u001b[?25l  Downloading https://files.pythonhosted.org/packages/8f/15/606f81a2b8a8e82eaa10683cb3f3074905ec65d3bcef949e3f0909f165a5/xgboost-0.80-py2.py3-none-manylinux1_x86_64.whl (15.8MB)\n",
      "\u001b[K    100% |████████████████████████████████| 15.8MB 607kB/s ta 0:00:01  5% |█▊                              | 829kB 1.0MB/s eta 0:00:15    32% |██████████▎                     | 5.1MB 2.0MB/s eta 0:00:06    51% |████████████████▍               | 8.1MB 1.7MB/s eta 0:00:05    58% |██████████████████▉             | 9.3MB 2.1MB/s eta 0:00:04    98% |███████████████████████████████▌| 15.6MB 3.4MB/s eta 0:00:01    99% |████████████████████████████████| 15.8MB 4.0MB/s eta 0:00:01\n",
      "\u001b[?25hRequirement already satisfied: scipy in /home/bumblebee/anaconda3/lib/python3.6/site-packages (from xgboost) (1.1.0)\n",
      "Requirement already satisfied: numpy in /home/bumblebee/anaconda3/lib/python3.6/site-packages (from xgboost) (1.14.3)\n",
      "Installing collected packages: xgboost\n",
      "Successfully installed xgboost-0.80\n"
     ]
    }
   ],
   "source": [
    "!pip install xgboost"
   ]
  },
  {
   "cell_type": "code",
   "execution_count": 57,
   "metadata": {},
   "outputs": [
    {
     "name": "stdout",
     "output_type": "stream",
     "text": [
      "Collecting hyperopt\n",
      "\u001b[?25l  Downloading https://files.pythonhosted.org/packages/ce/9f/f6324af3fc43f352e568b5850695c30ed7dd14af06a94f97953ff9187569/hyperopt-0.1.1-py3-none-any.whl (117kB)\n",
      "\u001b[K    100% |████████████████████████████████| 122kB 181kB/s ta 0:00:01\n",
      "\u001b[?25hRequirement already satisfied: six in /home/bumblebee/anaconda3/lib/python3.6/site-packages (from hyperopt) (1.11.0)\n",
      "Collecting future (from hyperopt)\n",
      "\u001b[?25l  Downloading https://files.pythonhosted.org/packages/00/2b/8d082ddfed935f3608cc61140df6dcbf0edea1bc3ab52fb6c29ae3e81e85/future-0.16.0.tar.gz (824kB)\n",
      "\u001b[K    100% |████████████████████████████████| 829kB 605kB/s ta 0:00:01\n",
      "\u001b[?25hRequirement already satisfied: scipy in /home/bumblebee/anaconda3/lib/python3.6/site-packages (from hyperopt) (1.1.0)\n",
      "Requirement already satisfied: networkx in /home/bumblebee/anaconda3/lib/python3.6/site-packages (from hyperopt) (2.1)\n",
      "Requirement already satisfied: numpy in /home/bumblebee/anaconda3/lib/python3.6/site-packages (from hyperopt) (1.14.3)\n",
      "Collecting pymongo (from hyperopt)\n",
      "\u001b[?25l  Downloading https://files.pythonhosted.org/packages/11/88/dd1f8c4281a60791b043f55e338d0521049208f21e3de19ddc9c160dbbef/pymongo-3.7.1-cp36-cp36m-manylinux1_x86_64.whl (405kB)\n",
      "\u001b[K    100% |████████████████████████████████| 409kB 324kB/s ta 0:00:011\n",
      "\u001b[?25hRequirement already satisfied: decorator>=4.1.0 in /home/bumblebee/anaconda3/lib/python3.6/site-packages (from networkx->hyperopt) (4.3.0)\n",
      "Building wheels for collected packages: future\n",
      "  Running setup.py bdist_wheel for future ... \u001b[?25ldone\n",
      "\u001b[?25h  Stored in directory: /home/bumblebee/.cache/pip/wheels/bf/c9/a3/c538d90ef17cf7823fa51fc701a7a7a910a80f6a405bf15b1a\n",
      "Successfully built future\n",
      "Installing collected packages: future, pymongo, hyperopt\n",
      "Successfully installed future-0.16.0 hyperopt-0.1.1 pymongo-3.7.1\n"
     ]
    }
   ],
   "source": [
    "!pip install hyperopt"
   ]
  },
  {
   "cell_type": "code",
   "execution_count": 1,
   "metadata": {},
   "outputs": [],
   "source": [
    "import pandas as pd\n",
    "import numpy as np\n",
    "import matplotlib.pyplot as plt\n",
    "from sklearn.utils import shuffle\n",
    "from sklearn.model_selection import train_test_split\n",
    "from xgboost.sklearn import XGBRegressor\n",
    "from hyperopt import STATUS_OK, Trials, fmin, hp, tpe\n",
    "import math\n",
    "from sklearn.metrics import mean_squared_error\n",
    "import time"
   ]
  },
  {
   "cell_type": "code",
   "execution_count": 2,
   "metadata": {},
   "outputs": [],
   "source": [
    "%matplotlib inline"
   ]
  },
  {
   "cell_type": "code",
   "execution_count": 3,
   "metadata": {},
   "outputs": [
    {
     "name": "stdout",
     "output_type": "stream",
     "text": [
      "Beer_hackathon.ipynb  Beer\\ Test\\ Data\\ Set.csv  Beer\\ Train\\ Data\\ Set.csv\r\n"
     ]
    }
   ],
   "source": [
    "!dir"
   ]
  },
  {
   "cell_type": "code",
   "execution_count": 3,
   "metadata": {},
   "outputs": [],
   "source": [
    "train_Data = pd.read_csv(\"Beer Train Data Set.csv\")"
   ]
  },
  {
   "cell_type": "code",
   "execution_count": 5,
   "metadata": {},
   "outputs": [
    {
     "name": "stdout",
     "output_type": "stream",
     "text": [
      "['ABV' 'Brewing Company' 'Food Paring' 'Glassware Used' 'Beer Name'\n",
      " 'Ratings' 'Style Name' 'Cellar Temperature' 'Serving Temperature' 'Score']\n"
     ]
    }
   ],
   "source": [
    "print(train_Data.columns.values)"
   ]
  },
  {
   "cell_type": "code",
   "execution_count": 4,
   "metadata": {},
   "outputs": [],
   "source": [
    "space = {\n",
    "        'n_estimators': hp.uniform('n_estimators', 100, 1000),\n",
    "        'eta': hp.quniform('eta', 0.025, 0.5, 0.025),\n",
    "        # A problem with max_depth casted to float instead of int with\n",
    "        # the hp.quniform method.\n",
    "        'max_depth':  hp.choice('max_depth', np.arange(1, 60, dtype=int)),\n",
    "        'min_child_weight': hp.quniform('min_child_weight', 1, 6, 1),\n",
    "        'subsample': hp.quniform('subsample', 0.5, 1, 0.05),\n",
    "        'gamma': hp.quniform('gamma', 0.5, 1, 0.05),\n",
    "        'colsample_bytree': hp.quniform('colsample_bytree', 0.5, 1, 0.05),\n",
    "        # Increase this number if you have more cores. Otherwise, remove it and it will default\n",
    "        # to the maxium number.\n",
    "        'nthread': 4,\n",
    "        \"xg_reg_alpha\": hp.loguniform('xg_reg_alpha',1e-9,1.0),\n",
    "        \"xg_reg_lambda\":hp.loguniform('xg_reg_lambda',1e-9,1)\n",
    "\n",
    "    }"
   ]
  },
  {
   "cell_type": "code",
   "execution_count": 7,
   "metadata": {},
   "outputs": [
    {
     "name": "stdout",
     "output_type": "stream",
     "text": [
      "94\n"
     ]
    }
   ],
   "source": [
    "print(len(train_Data[\"Style Name\"].unique()))"
   ]
  },
  {
   "cell_type": "markdown",
   "metadata": {},
   "source": [
    "Find a way to encode beer style name."
   ]
  },
  {
   "cell_type": "code",
   "execution_count": 8,
   "metadata": {},
   "outputs": [
    {
     "data": {
      "text/plain": [
       "AmericanIPA                      25577\n",
       "AmericanPaleAle(APA)             12648\n",
       "AmericanPorter                   11992\n",
       "AmericanDoubleImperialIPA        10147\n",
       "SaisonFarmhouseAle                8982\n",
       "AmericanAmberRedAle               5924\n",
       "AmericanWildAle                   5523\n",
       "AmericanDoubleImperialStout       5125\n",
       "AmericanStout                     4911\n",
       "AmericanBlondeAle                 4234\n",
       "FruitVegetableBeer                4088\n",
       "AmericanBrownAle                  3958\n",
       "Hefeweizen                        3670\n",
       "Witbier                           3265\n",
       "GermanPilsener                    2955\n",
       "BelgianPaleAle                    2909\n",
       "EuroPaleLager                     2444\n",
       "BerlinerWeissbier                 2376\n",
       "AmericanBlackAle                  2255\n",
       "MrzenOktoberfest                  2214\n",
       "EnglishPaleAle                    2176\n",
       "EnglishBitter                     2164\n",
       "AmericanPaleLager                 2160\n",
       "Tripel                            1987\n",
       "Klsch                             1888\n",
       "CzechPilsener                     1778\n",
       "Gose                              1681\n",
       "HerbedSpicedBeer                  1578\n",
       "CreamAle                          1452\n",
       "EnglishIndiaPaleAle(IPA)          1451\n",
       "                                 ...  \n",
       "AmericanAmberRedLager              608\n",
       "EuroDarkLager                      590\n",
       "Weizenbock                         517\n",
       "CaliforniaCommonSteamBeer          507\n",
       "LowAlcoholBeer                     438\n",
       "DortmunderExportLager              431\n",
       "Lambic-Fruit                       397\n",
       "Rauchbier                          394\n",
       "ChileBeer                          365\n",
       "AmericanDoubleImperialPilsner      334\n",
       "EnglishPaleMildAle                 331\n",
       "FlandersRedAle                     328\n",
       "FlandersOudBruin                   266\n",
       "AmericanMaltLiquor                 247\n",
       "ScottishGruitAncientHerbedAle      240\n",
       "Wheatwine                          219\n",
       "Roggenbier                         195\n",
       "Kvass                              193\n",
       "AmericanDarkWheatAle               179\n",
       "Braggot                            167\n",
       "Kristalweizen                      161\n",
       "Gueuze                             104\n",
       "Lambic-Unblended                    93\n",
       "JapaneseRiceLager                   89\n",
       "Eisbock                             75\n",
       "BlackTan                            69\n",
       "Sahti                               68\n",
       "Happoshu                            58\n",
       "BiredeChampagneBireBrut             51\n",
       "Faro                                18\n",
       "Name: Style Name, Length: 94, dtype: int64"
      ]
     },
     "execution_count": 8,
     "metadata": {},
     "output_type": "execute_result"
    }
   ],
   "source": [
    "train_Data[\"Style Name\"].value_counts()"
   ]
  },
  {
   "cell_type": "code",
   "execution_count": 14,
   "metadata": {},
   "outputs": [
    {
     "data": {
      "text/plain": [
       "ABV                    15130\n",
       "Brewing Company            0\n",
       "Food Paring                0\n",
       "Glassware Used             0\n",
       "Beer Name                  0\n",
       "Ratings                    0\n",
       "Style Name                 0\n",
       "Cellar Temperature      6781\n",
       "Serving Temperature      193\n",
       "Score                      0\n",
       "dtype: int64"
      ]
     },
     "execution_count": 14,
     "metadata": {},
     "output_type": "execute_result"
    }
   ],
   "source": [
    "train_Data.isna().sum()"
   ]
  },
  {
   "cell_type": "code",
   "execution_count": 15,
   "metadata": {},
   "outputs": [],
   "source": [
    "food_pairing_unique_list = (train_Data[\"Food Paring\"].unique())"
   ]
  },
  {
   "cell_type": "code",
   "execution_count": 11,
   "metadata": {},
   "outputs": [
    {
     "name": "stdout",
     "output_type": "stream",
     "text": [
      "13541\n"
     ]
    }
   ],
   "source": [
    "print(train_Data[\"Brewing Company\"].max())"
   ]
  },
  {
   "cell_type": "code",
   "execution_count": 5,
   "metadata": {},
   "outputs": [],
   "source": [
    "train_Data = shuffle(train_Data, random_state=2)"
   ]
  },
  {
   "cell_type": "code",
   "execution_count": 6,
   "metadata": {},
   "outputs": [],
   "source": [
    "train_Data.reset_index(drop=True,inplace=True)"
   ]
  },
  {
   "cell_type": "code",
   "execution_count": null,
   "metadata": {},
   "outputs": [],
   "source": [
    "#train_Data.drop(labels=[\"Cellar Temperature\"],inplace=True,axis=1)"
   ]
  },
  {
   "cell_type": "code",
   "execution_count": 7,
   "metadata": {},
   "outputs": [
    {
     "name": "stdout",
     "output_type": "stream",
     "text": [
      "6.354960736131313\n"
     ]
    }
   ],
   "source": [
    "#handle ABV\n",
    "mean_abv = train_Data[\"ABV\"].mean()\n",
    "\n",
    "print(mean_abv)\n",
    "\n",
    "train_Data[\"ABV\"].fillna(mean_abv, inplace=True)"
   ]
  },
  {
   "cell_type": "code",
   "execution_count": 29,
   "metadata": {},
   "outputs": [
    {
     "data": {
      "text/plain": [
       "'40-45'"
      ]
     },
     "execution_count": 29,
     "metadata": {},
     "output_type": "execute_result"
    }
   ],
   "source": [
    "(train_Data[\"Cellar Temperature\"].value_counts().index)[0]"
   ]
  },
  {
   "cell_type": "code",
   "execution_count": 8,
   "metadata": {},
   "outputs": [],
   "source": [
    "train_Data[\"Cellar Temperature\"].fillna((train_Data[\"Cellar Temperature\"].value_counts().index)[0],inplace=True)"
   ]
  },
  {
   "cell_type": "code",
   "execution_count": 9,
   "metadata": {},
   "outputs": [],
   "source": [
    "#converting into float from string\n",
    "train_Data[\"Ratings\"] = train_Data['Ratings'].str.replace(',', '')\n",
    "train_Data[\"Ratings\"] = train_Data['Ratings'].astype(np.float64)"
   ]
  },
  {
   "cell_type": "code",
   "execution_count": 10,
   "metadata": {},
   "outputs": [],
   "source": [
    "3427086540917546\n",
    "validation_rmse 0.3601428124655341 = pd.get_dummies(train_Data[\"Cellar Temperature\"])"
   ]
  },
  {
   "cell_type": "code",
   "execution_count": 11,
   "metadata": {},
   "outputs": [],
   "source": [
    "cellar_temp_dataframe.reset_index(drop=True,inplace=True)"
   ]
  },
  {
   "cell_type": "code",
   "execution_count": 12,
   "metadata": {},
   "outputs": [
    {
     "name": "stdout",
     "output_type": "stream",
     "text": [
      "   35-40  40-45  45-50\n",
      "0      1      0      0\n",
      "1      1      0      0\n",
      "2      0      0      1\n",
      "3      0      0      1\n",
      "4      0      1      0\n"
     ]
    }
   ],
   "source": [
    "\n",
    "print(cellar_temp_dataframe.head(n=5))"
   ]
  },
  {
   "cell_type": "code",
   "execution_count": 25,
   "metadata": {},
   "outputs": [],
   "source": [
    "#as of now not taking serving temperature as a input\n",
    "#train_Data_Wo_Serving_Null = train_Data[train_Data[\"Serving Temperature\"].notnull()]"
   ]
  },
  {
   "cell_type": "code",
   "execution_count": 14,
   "metadata": {},
   "outputs": [
    {
     "data": {
      "text/plain": [
       "ABV                      0\n",
       "Brewing Company          0\n",
       "Food Paring              0\n",
       "Glassware Used           0\n",
       "Beer Name                0\n",
       "Ratings                  0\n",
       "Style Name               0\n",
       "Cellar Temperature       0\n",
       "Serving Temperature    193\n",
       "Score                    0\n",
       "dtype: int64"
      ]
     },
     "execution_count": 14,
     "metadata": {},
     "output_type": "execute_result"
    }
   ],
   "source": [
    "train_Data.isna().sum()"
   ]
  },
  {
   "cell_type": "code",
   "execution_count": 16,
   "metadata": {},
   "outputs": [],
   "source": [
    "#handling style input\n",
    "unique_beer_style_names = train_Data[\"Style Name\"].unique()"
   ]
  },
  {
   "cell_type": "code",
   "execution_count": 17,
   "metadata": {},
   "outputs": [],
   "source": [
    "dict_style_name_value = {}\n",
    "\n",
    "for style_name in unique_beer_style_names:\n",
    "    Score_with_style_name = train_Data[train_Data[\"Style Name\"] == style_name][\"Score\"]\n",
    "    dict_style_name_value[style_name] = Score_with_style_name.sum() / len(Score_with_style_name)\n",
    "\n",
    "train_Data[\"Style Name\"].replace(to_replace=dict_style_name_value,inplace=True)\n",
    "    \n",
    "    "
   ]
  },
  {
   "cell_type": "code",
   "execution_count": 20,
   "metadata": {},
   "outputs": [],
   "source": [
    "#handling style input\n",
    "food_pairing_unique_list = train_Data[\"Food Paring\"].unique()"
   ]
  },
  {
   "cell_type": "code",
   "execution_count": 21,
   "metadata": {},
   "outputs": [],
   "source": [
    "dict_food_pairing_value = {}\n",
    "\n",
    "for food_pairing in food_pairing_unique_list:\n",
    "    Score_with_food_pairing = train_Data[train_Data[\"Food Paring\"] == food_pairing][\"Score\"]\n",
    "    dict_food_pairing_value[food_pairing] = Score_with_food_pairing.sum() / len(Score_with_food_pairing)\n",
    "\n",
    "train_Data[\"Food Paring\"].replace(to_replace=dict_food_pairing_value,inplace=True)\n"
   ]
  },
  {
   "cell_type": "code",
   "execution_count": 23,
   "metadata": {},
   "outputs": [
    {
     "name": "stderr",
     "output_type": "stream",
     "text": [
      "/home/bumblebee/anaconda3/lib/python3.6/site-packages/pandas/core/frame.py:3694: SettingWithCopyWarning: \n",
      "A value is trying to be set on a copy of a slice from a DataFrame\n",
      "\n",
      "See the caveats in the documentation: http://pandas.pydata.org/pandas-docs/stable/indexing.html#indexing-view-versus-copy\n",
      "  errors=errors)\n"
     ]
    }
   ],
   "source": []
  },
  {
   "cell_type": "code",
   "execution_count": 22,
   "metadata": {},
   "outputs": [
    {
     "name": "stdout",
     "output_type": "stream",
     "text": [
      "ABV                      0\n",
      "Brewing Company          0\n",
      "Food Paring              0\n",
      "Glassware Used           0\n",
      "Beer Name                0\n",
      "Ratings                  0\n",
      "Style Name               0\n",
      "Cellar Temperature       0\n",
      "Serving Temperature    193\n",
      "Score                    0\n",
      "dtype: int64\n"
     ]
    }
   ],
   "source": [
    "print(train_Data.isna().sum())"
   ]
  },
  {
   "cell_type": "code",
   "execution_count": 23,
   "metadata": {},
   "outputs": [],
   "source": [
    "final_df = pd.concat([train_Data,cellar_temp_dataframe],axis=1)"
   ]
  },
  {
   "cell_type": "code",
   "execution_count": 24,
   "metadata": {},
   "outputs": [
    {
     "name": "stdout",
     "output_type": "stream",
     "text": [
      "ABV                      0\n",
      "Brewing Company          0\n",
      "Food Paring              0\n",
      "Glassware Used           0\n",
      "Beer Name                0\n",
      "Ratings                  0\n",
      "Style Name               0\n",
      "Cellar Temperature       0\n",
      "Serving Temperature    193\n",
      "Score                    0\n",
      "35-40                    0\n",
      "40-45                    0\n",
      "45-50                    0\n",
      "dtype: int64\n"
     ]
    }
   ],
   "source": [
    "print(final_df.isna().sum())"
   ]
  },
  {
   "cell_type": "code",
   "execution_count": 36,
   "metadata": {},
   "outputs": [
    {
     "name": "stdout",
     "output_type": "stream",
     "text": [
      "ABV                    float64\n",
      "Brewing Company        float64\n",
      "Food Paring            float64\n",
      "Glassware Used          object\n",
      "Beer Name              float64\n",
      "Ratings                float64\n",
      "Style Name             float64\n",
      "Serving Temperature     object\n",
      "Score                  float64\n",
      "35-40                    uint8\n",
      "40-45                    uint8\n",
      "45-50                    uint8\n",
      "dtype: object\n"
     ]
    }
   ],
   "source": [
    "print(final_df.dtypes)"
   ]
  },
  {
   "cell_type": "code",
   "execution_count": 27,
   "metadata": {},
   "outputs": [
    {
     "name": "stdout",
     "output_type": "stream",
     "text": [
      "   Food Paring  Style Name  c_t1  c_t2  c_t3        ABV  Ratings\n",
      "0     3.174928    3.174928     1     0     0   6.000000      4.0\n",
      "1     2.965526    2.965526     1     0     0   5.800000      3.0\n",
      "2     3.304736    3.304736     0     0     1  10.000000      1.0\n",
      "3     3.674808    3.674808     0     0     1   6.000000   1016.0\n",
      "4     3.256399    3.256399     0     1     0   8.500000     33.0\n",
      "5     2.990949    2.990949     0     1     0   6.354961      1.0\n",
      "6     3.495354    3.495354     0     1     0   6.354961      1.0\n",
      "7     3.160955    3.160955     0     0     1   6.700000     13.0\n",
      "8     3.174928    3.174928     1     0     0   6.200000      0.0\n",
      "9     3.067656    3.067656     0     1     0   5.500000      3.0\n"
     ]
    }
   ],
   "source": [
    "final_df.rename(columns={\"35-40\": \"c_t1\", \"40-45\": \"c_t2\",\"45-50\":\"c_t3\"},inplace=True)\n",
    "print(final_df[[\"Food Paring\",\"Style Name\",\"c_t1\", \"c_t2\",\n",
    " \"c_t3\",\"ABV\",\"Ratings\"]].head(n=10))\n"
   ]
  },
  {
   "cell_type": "code",
   "execution_count": 28,
   "metadata": {},
   "outputs": [],
   "source": [
    "columns_to_train = [\"ABV\",\"Ratings\",\"Style Name\",\"Food Paring\",\"c_t1\", \"c_t2\",\n",
    " \"c_t3\"]\n",
    "X_train, X_validtn, y_train, y_validtn = train_test_split(final_df[columns_to_train], final_df[\"Score\"], test_size=0.2,\n",
    "                                                          random_state=1)\n"
   ]
  },
  {
   "cell_type": "code",
   "execution_count": 29,
   "metadata": {},
   "outputs": [
    {
     "name": "stdout",
     "output_type": "stream",
     "text": [
      "ABV            0\n",
      "Ratings        0\n",
      "Style Name     0\n",
      "Food Paring    0\n",
      "c_t1           0\n",
      "c_t2           0\n",
      "c_t3           0\n",
      "dtype: int64\n"
     ]
    }
   ],
   "source": [
    "print(X_train.isna().sum())"
   ]
  },
  {
   "cell_type": "code",
   "execution_count": 41,
   "metadata": {},
   "outputs": [
    {
     "name": "stdout",
     "output_type": "stream",
     "text": [
      "110550    3.89\n",
      "23028     4.32\n",
      "38859     3.60\n",
      "120251    2.61\n",
      "177166    3.44\n",
      "Name: Score, dtype: float64\n"
     ]
    }
   ],
   "source": [
    "print(y_train.head(n=5))"
   ]
  },
  {
   "cell_type": "code",
   "execution_count": 27,
   "metadata": {},
   "outputs": [],
   "source": [
    "#319,0.021239072071744414,32,3,5.318135711773575e-05,5.318135711773575e-05,0.05e-08,0.08177818529253764,1.738085684913476e-08trials = Trials()"
   ]
  },
  {
   "cell_type": "code",
   "execution_count": null,
   "metadata": {},
   "outputs": [],
   "source": [
    "\n",
    "xg_model = XGBRegressor(n_estimators=319, learning_rate=0.021239072071744414, n_jobs=-1,\n",
    "                            max_depth=32, gamma=3, colsample_bytree=5.318135711773575e-05,\n",
    "                            min_child_weight=0.05e-08, reg_alpha=0.08177818529253764, subsample=params['subsample'],\n",
    "                            reg_lambda=1.738085684913476e-08\n",
    "                            )"
   ]
  },
  {
   "cell_type": "code",
   "execution_count": null,
   "metadata": {},
   "outputs": [],
   "source": [
    "xg_model.fit(X_train, y_train)"
   ]
  },
  {
   "cell_type": "code",
   "execution_count": 32,
   "metadata": {},
   "outputs": [],
   "source": [
    "trials = Trials()"
   ]
  },
  {
   "cell_type": "code",
   "execution_count": 35,
   "metadata": {},
   "outputs": [],
   "source": [
    "def train_xg_boost(params):\n",
    "\n",
    "    \n",
    "    xg_model = XGBRegressor(n_estimators=int(params['n_estimators']), learning_rate=params['eta'], n_jobs=-1,\n",
    "                            max_depth=int(params['max_depth']), gamma=params['gamma'], colsample_bytree=params['colsample_bytree'],\n",
    "                            min_child_weight=params['min_child_weight'], reg_alpha=params['xg_reg_alpha'], subsample=params['subsample'],\n",
    "                            reg_lambda=params['xg_reg_lambda']\n",
    "                            )\n",
    "    \n",
    "    \n",
    "    print(\"hyperparameters\",params)\n",
    "    # In[ ]:\n",
    "\n",
    "    xg_model.fit(X_train.values, y_train.values)\n",
    "\n",
    "    # In[68]:\n",
    "\n",
    "    training_values = xg_model.predict(X_train.values)\n",
    "    print(training_values)\n",
    "        \n",
    "    training_rmse = math.sqrt(mean_squared_error(y_train, training_values))\n",
    "    \n",
    "    print(\"training_rmse\", training_rmse)\n",
    "    validation_values = xg_model.predict(X_validtn.values)\n",
    "    validation_rmse = math.sqrt(mean_squared_error(y_validtn, validation_values))\n",
    "    print(\"validation_rmse\", validation_rmse)\n",
    "\n",
    "    return {'loss': validation_rmse,\n",
    "        'status': STATUS_OK,\n",
    "        'eval_time': time.time(),\n",
    "        }\n",
    "\n",
    "\n",
    "\n"
   ]
  },
  {
   "cell_type": "code",
   "execution_count": 36,
   "metadata": {
    "scrolled": true
   },
   "outputs": [
    {
     "name": "stdout",
     "output_type": "stream",
     "text": [
      "hyperparameters {'colsample_bytree': 0.8, 'eta': 0.35000000000000003, 'gamma': 0.6000000000000001, 'max_depth': 57, 'min_child_weight': 5.0, 'n_estimators': 530.8943989377739, 'nthread': 4, 'subsample': 0.9500000000000001, 'xg_reg_alpha': 1.2276574602966575, 'xg_reg_lambda': 1.010845164207668}\n",
      "[3.5522807 3.7869232 3.7831292 ... 3.6578543 3.8998313 3.9655118]\n",
      "training_rmse 0.34309129227386054\n",
      "validation_rmse 0.3596886548326828\n",
      "hyperparameters {'colsample_bytree': 0.75, 'eta': 0.42500000000000004, 'gamma': 0.6000000000000001, 'max_depth': 39, 'min_child_weight': 2.0, 'n_estimators': 880.4294537153836, 'nthread': 4, 'subsample': 0.7000000000000001, 'xg_reg_alpha': 1.4533793705880464, 'xg_reg_lambda': 1.4370619648453016}\n",
      "[3.619413  3.8002303 3.7970445 ... 3.6592023 3.9305935 3.9065287]\n",
      "training_rmse 0.3419906582341722\n",
      "validation_rmse 0.3616829109254794\n",
      "hyperparameters {'colsample_bytree': 0.9500000000000001, 'eta': 0.325, 'gamma': 0.8, 'max_depth': 8, 'min_child_weight': 6.0, 'n_estimators': 603.0619249465125, 'nthread': 4, 'subsample': 0.9, 'xg_reg_alpha': 2.6793064296458846, 'xg_reg_lambda': 1.362434527582877}\n",
      "[3.5195787 3.8096578 3.709434  ... 3.6281588 3.9440472 3.9435387]\n",
      "training_rmse 0.35096541710238144\n",
      "validation_rmse 0.3573912469024611\n",
      "hyperparameters {'colsample_bytree': 0.8, 'eta': 0.42500000000000004, 'gamma': 0.6000000000000001, 'max_depth': 38, 'min_child_weight': 6.0, 'n_estimators': 342.98990959019784, 'nthread': 4, 'subsample': 0.55, 'xg_reg_alpha': 1.1936736489325661, 'xg_reg_lambda': 2.4155141844781194}\n",
      "[3.6239712 3.8067148 3.810417  ... 3.6817558 3.907098  3.8858094]\n",
      "training_rmse 0.3429594082243565\n",
      "validation_rmse 0.3624616271195123\n",
      "hyperparameters {'colsample_bytree': 0.5, 'eta': 0.275, 'gamma': 0.6000000000000001, 'max_depth': 28, 'min_child_weight': 3.0, 'n_estimators': 481.8607617266151, 'nthread': 4, 'subsample': 0.65, 'xg_reg_alpha': 1.3960428238897236, 'xg_reg_lambda': 1.847214991113021}\n",
      "[3.5240057 3.7890635 3.7893665 ... 3.6379867 3.9240613 3.988884 ]\n",
      "training_rmse 0.34655736284235855\n",
      "validation_rmse 0.35899205516547006\n",
      "hyperparameters {'colsample_bytree': 0.9500000000000001, 'eta': 0.2, 'gamma': 0.75, 'max_depth': 25, 'min_child_weight': 4.0, 'n_estimators': 949.1215547997424, 'nthread': 4, 'subsample': 0.65, 'xg_reg_alpha': 2.1343961117225074, 'xg_reg_lambda': 1.4512805286772672}\n",
      "[3.5627737 3.7899952 3.7532976 ... 3.6339636 3.9226859 3.945063 ]\n",
      "training_rmse 0.34662159631438433\n",
      "validation_rmse 0.3584467741236522\n",
      "hyperparameters {'colsample_bytree': 0.55, 'eta': 0.45, 'gamma': 0.9, 'max_depth': 9, 'min_child_weight': 1.0, 'n_estimators': 906.2172216276787, 'nthread': 4, 'subsample': 0.7000000000000001, 'xg_reg_alpha': 2.203864974458323, 'xg_reg_lambda': 1.206628421807404}\n",
      "[3.538712  3.799986  3.7402937 ... 3.6313176 3.932284  3.9740152]\n",
      "training_rmse 0.3509688937199093\n",
      "validation_rmse 0.3581948651239516\n",
      "hyperparameters {'colsample_bytree': 1.0, 'eta': 0.375, 'gamma': 0.8500000000000001, 'max_depth': 31, 'min_child_weight': 5.0, 'n_estimators': 519.2928908229817, 'nthread': 4, 'subsample': 0.75, 'xg_reg_alpha': 1.9138035335074892, 'xg_reg_lambda': 2.5894858898554496}\n",
      "[3.555809  3.7837849 3.7688565 ... 3.6591134 3.9368846 3.936493 ]\n",
      "training_rmse 0.3470406391155303\n",
      "validation_rmse 0.35861717032543394\n",
      "hyperparameters {'colsample_bytree': 1.0, 'eta': 0.2, 'gamma': 0.75, 'max_depth': 9, 'min_child_weight': 1.0, 'n_estimators': 824.7175156046064, 'nthread': 4, 'subsample': 0.5, 'xg_reg_alpha': 1.9798664109330988, 'xg_reg_lambda': 2.227046501581624}\n",
      "[3.514235  3.799761  3.7178836 ... 3.6629698 3.9229343 3.9632807]\n",
      "training_rmse 0.3486136704733597\n",
      "validation_rmse 0.35832464378037615\n",
      "hyperparameters {'colsample_bytree': 0.8500000000000001, 'eta': 0.07500000000000001, 'gamma': 0.7000000000000001, 'max_depth': 13, 'min_child_weight': 3.0, 'n_estimators': 111.9854405895615, 'nthread': 4, 'subsample': 0.65, 'xg_reg_alpha': 1.187735789827878, 'xg_reg_lambda': 2.2189885568591508}\n",
      "[3.5257366 3.7793322 3.7310534 ... 3.6350994 3.9469194 3.9399178]\n",
      "training_rmse 0.3513180137861085\n",
      "validation_rmse 0.35777245229113697\n",
      "hyperparameters {'colsample_bytree': 1.0, 'eta': 0.375, 'gamma': 0.8500000000000001, 'max_depth': 37, 'min_child_weight': 2.0, 'n_estimators': 953.4135142263664, 'nthread': 4, 'subsample': 0.8500000000000001, 'xg_reg_alpha': 1.0706780744158402, 'xg_reg_lambda': 1.0557485914284248}\n",
      "[3.5746286 3.813997  3.7638857 ... 3.6655407 3.9224803 3.925408 ]\n",
      "training_rmse 0.3427086540917546\n",
      "validation_rmse 0.3601428124655341\n",
      "hyperparameters {'colsample_bytree': 0.75, 'eta': 0.4, 'gamma': 0.75, 'max_depth': 33, 'min_child_weight': 4.0, 'n_estimators': 249.281748168512, 'nthread': 4, 'subsample': 0.8500000000000001, 'xg_reg_alpha': 2.217256475814971, 'xg_reg_lambda': 1.597221066294123}\n"
     ]
    },
    {
     "ename": "KeyboardInterrupt",
     "evalue": "",
     "output_type": "error",
     "traceback": [
      "\u001b[0;31m---------------------------------------------------------------------------\u001b[0m",
      "\u001b[0;31mKeyboardInterrupt\u001b[0m                         Traceback (most recent call last)",
      "\u001b[0;32m<ipython-input-36-ab0106970e0a>\u001b[0m in \u001b[0;36m<module>\u001b[0;34m()\u001b[0m\n\u001b[0;32m----> 1\u001b[0;31m \u001b[0mbest\u001b[0m \u001b[0;34m=\u001b[0m \u001b[0mfmin\u001b[0m\u001b[0;34m(\u001b[0m\u001b[0mfn\u001b[0m\u001b[0;34m=\u001b[0m\u001b[0mtrain_xg_boost\u001b[0m\u001b[0;34m,\u001b[0m \u001b[0mspace\u001b[0m\u001b[0;34m=\u001b[0m\u001b[0mspace\u001b[0m\u001b[0;34m,\u001b[0m \u001b[0malgo\u001b[0m\u001b[0;34m=\u001b[0m\u001b[0mtpe\u001b[0m\u001b[0;34m.\u001b[0m\u001b[0msuggest\u001b[0m\u001b[0;34m,\u001b[0m\u001b[0mmax_evals\u001b[0m\u001b[0;34m=\u001b[0m\u001b[0;36m100\u001b[0m\u001b[0;34m,\u001b[0m\u001b[0mtrials\u001b[0m\u001b[0;34m=\u001b[0m\u001b[0mtrials\u001b[0m\u001b[0;34m)\u001b[0m\u001b[0;34m\u001b[0m\u001b[0m\n\u001b[0m",
      "\u001b[0;32m~/anaconda3/lib/python3.6/site-packages/hyperopt/fmin.py\u001b[0m in \u001b[0;36mfmin\u001b[0;34m(fn, space, algo, max_evals, trials, rstate, allow_trials_fmin, pass_expr_memo_ctrl, catch_eval_exceptions, verbose, return_argmin, points_to_evaluate, max_queue_len)\u001b[0m\n\u001b[1;32m    365\u001b[0m             \u001b[0mverbose\u001b[0m\u001b[0;34m=\u001b[0m\u001b[0mverbose\u001b[0m\u001b[0;34m,\u001b[0m\u001b[0;34m\u001b[0m\u001b[0m\n\u001b[1;32m    366\u001b[0m             \u001b[0mcatch_eval_exceptions\u001b[0m\u001b[0;34m=\u001b[0m\u001b[0mcatch_eval_exceptions\u001b[0m\u001b[0;34m,\u001b[0m\u001b[0;34m\u001b[0m\u001b[0m\n\u001b[0;32m--> 367\u001b[0;31m             \u001b[0mreturn_argmin\u001b[0m\u001b[0;34m=\u001b[0m\u001b[0mreturn_argmin\u001b[0m\u001b[0;34m,\u001b[0m\u001b[0;34m\u001b[0m\u001b[0m\n\u001b[0m\u001b[1;32m    368\u001b[0m         )\n\u001b[1;32m    369\u001b[0m \u001b[0;34m\u001b[0m\u001b[0m\n",
      "\u001b[0;32m~/anaconda3/lib/python3.6/site-packages/hyperopt/base.py\u001b[0m in \u001b[0;36mfmin\u001b[0;34m(self, fn, space, algo, max_evals, rstate, verbose, pass_expr_memo_ctrl, catch_eval_exceptions, return_argmin)\u001b[0m\n\u001b[1;32m    633\u001b[0m             \u001b[0mpass_expr_memo_ctrl\u001b[0m\u001b[0;34m=\u001b[0m\u001b[0mpass_expr_memo_ctrl\u001b[0m\u001b[0;34m,\u001b[0m\u001b[0;34m\u001b[0m\u001b[0m\n\u001b[1;32m    634\u001b[0m             \u001b[0mcatch_eval_exceptions\u001b[0m\u001b[0;34m=\u001b[0m\u001b[0mcatch_eval_exceptions\u001b[0m\u001b[0;34m,\u001b[0m\u001b[0;34m\u001b[0m\u001b[0m\n\u001b[0;32m--> 635\u001b[0;31m             return_argmin=return_argmin)\n\u001b[0m\u001b[1;32m    636\u001b[0m \u001b[0;34m\u001b[0m\u001b[0m\n\u001b[1;32m    637\u001b[0m \u001b[0;34m\u001b[0m\u001b[0m\n",
      "\u001b[0;32m~/anaconda3/lib/python3.6/site-packages/hyperopt/fmin.py\u001b[0m in \u001b[0;36mfmin\u001b[0;34m(fn, space, algo, max_evals, trials, rstate, allow_trials_fmin, pass_expr_memo_ctrl, catch_eval_exceptions, verbose, return_argmin, points_to_evaluate, max_queue_len)\u001b[0m\n\u001b[1;32m    383\u001b[0m                     max_queue_len=max_queue_len)\n\u001b[1;32m    384\u001b[0m     \u001b[0mrval\u001b[0m\u001b[0;34m.\u001b[0m\u001b[0mcatch_eval_exceptions\u001b[0m \u001b[0;34m=\u001b[0m \u001b[0mcatch_eval_exceptions\u001b[0m\u001b[0;34m\u001b[0m\u001b[0m\n\u001b[0;32m--> 385\u001b[0;31m     \u001b[0mrval\u001b[0m\u001b[0;34m.\u001b[0m\u001b[0mexhaust\u001b[0m\u001b[0;34m(\u001b[0m\u001b[0;34m)\u001b[0m\u001b[0;34m\u001b[0m\u001b[0m\n\u001b[0m\u001b[1;32m    386\u001b[0m     \u001b[0;32mif\u001b[0m \u001b[0mreturn_argmin\u001b[0m\u001b[0;34m:\u001b[0m\u001b[0;34m\u001b[0m\u001b[0m\n\u001b[1;32m    387\u001b[0m         \u001b[0;32mreturn\u001b[0m \u001b[0mtrials\u001b[0m\u001b[0;34m.\u001b[0m\u001b[0margmin\u001b[0m\u001b[0;34m\u001b[0m\u001b[0m\n",
      "\u001b[0;32m~/anaconda3/lib/python3.6/site-packages/hyperopt/fmin.py\u001b[0m in \u001b[0;36mexhaust\u001b[0;34m(self)\u001b[0m\n\u001b[1;32m    242\u001b[0m     \u001b[0;32mdef\u001b[0m \u001b[0mexhaust\u001b[0m\u001b[0;34m(\u001b[0m\u001b[0mself\u001b[0m\u001b[0;34m)\u001b[0m\u001b[0;34m:\u001b[0m\u001b[0;34m\u001b[0m\u001b[0m\n\u001b[1;32m    243\u001b[0m         \u001b[0mn_done\u001b[0m \u001b[0;34m=\u001b[0m \u001b[0mlen\u001b[0m\u001b[0;34m(\u001b[0m\u001b[0mself\u001b[0m\u001b[0;34m.\u001b[0m\u001b[0mtrials\u001b[0m\u001b[0;34m)\u001b[0m\u001b[0;34m\u001b[0m\u001b[0m\n\u001b[0;32m--> 244\u001b[0;31m         \u001b[0mself\u001b[0m\u001b[0;34m.\u001b[0m\u001b[0mrun\u001b[0m\u001b[0;34m(\u001b[0m\u001b[0mself\u001b[0m\u001b[0;34m.\u001b[0m\u001b[0mmax_evals\u001b[0m \u001b[0;34m-\u001b[0m \u001b[0mn_done\u001b[0m\u001b[0;34m,\u001b[0m \u001b[0mblock_until_done\u001b[0m\u001b[0;34m=\u001b[0m\u001b[0mself\u001b[0m\u001b[0;34m.\u001b[0m\u001b[0masynchronous\u001b[0m\u001b[0;34m)\u001b[0m\u001b[0;34m\u001b[0m\u001b[0m\n\u001b[0m\u001b[1;32m    245\u001b[0m         \u001b[0mself\u001b[0m\u001b[0;34m.\u001b[0m\u001b[0mtrials\u001b[0m\u001b[0;34m.\u001b[0m\u001b[0mrefresh\u001b[0m\u001b[0;34m(\u001b[0m\u001b[0;34m)\u001b[0m\u001b[0;34m\u001b[0m\u001b[0m\n\u001b[1;32m    246\u001b[0m         \u001b[0;32mreturn\u001b[0m \u001b[0mself\u001b[0m\u001b[0;34m\u001b[0m\u001b[0m\n",
      "\u001b[0;32m~/anaconda3/lib/python3.6/site-packages/hyperopt/fmin.py\u001b[0m in \u001b[0;36mrun\u001b[0;34m(self, N, block_until_done)\u001b[0m\n\u001b[1;32m    216\u001b[0m             \u001b[0;32melse\u001b[0m\u001b[0;34m:\u001b[0m\u001b[0;34m\u001b[0m\u001b[0m\n\u001b[1;32m    217\u001b[0m                 \u001b[0;31m# -- loop over trials and do the jobs directly\u001b[0m\u001b[0;34m\u001b[0m\u001b[0;34m\u001b[0m\u001b[0m\n\u001b[0;32m--> 218\u001b[0;31m                 \u001b[0mself\u001b[0m\u001b[0;34m.\u001b[0m\u001b[0mserial_evaluate\u001b[0m\u001b[0;34m(\u001b[0m\u001b[0;34m)\u001b[0m\u001b[0;34m\u001b[0m\u001b[0m\n\u001b[0m\u001b[1;32m    219\u001b[0m \u001b[0;34m\u001b[0m\u001b[0m\n\u001b[1;32m    220\u001b[0m             \u001b[0;32mif\u001b[0m \u001b[0mstopped\u001b[0m\u001b[0;34m:\u001b[0m\u001b[0;34m\u001b[0m\u001b[0m\n",
      "\u001b[0;32m~/anaconda3/lib/python3.6/site-packages/hyperopt/fmin.py\u001b[0m in \u001b[0;36mserial_evaluate\u001b[0;34m(self, N)\u001b[0m\n\u001b[1;32m    135\u001b[0m                 \u001b[0mctrl\u001b[0m \u001b[0;34m=\u001b[0m \u001b[0mbase\u001b[0m\u001b[0;34m.\u001b[0m\u001b[0mCtrl\u001b[0m\u001b[0;34m(\u001b[0m\u001b[0mself\u001b[0m\u001b[0;34m.\u001b[0m\u001b[0mtrials\u001b[0m\u001b[0;34m,\u001b[0m \u001b[0mcurrent_trial\u001b[0m\u001b[0;34m=\u001b[0m\u001b[0mtrial\u001b[0m\u001b[0;34m)\u001b[0m\u001b[0;34m\u001b[0m\u001b[0m\n\u001b[1;32m    136\u001b[0m                 \u001b[0;32mtry\u001b[0m\u001b[0;34m:\u001b[0m\u001b[0;34m\u001b[0m\u001b[0m\n\u001b[0;32m--> 137\u001b[0;31m                     \u001b[0mresult\u001b[0m \u001b[0;34m=\u001b[0m \u001b[0mself\u001b[0m\u001b[0;34m.\u001b[0m\u001b[0mdomain\u001b[0m\u001b[0;34m.\u001b[0m\u001b[0mevaluate\u001b[0m\u001b[0;34m(\u001b[0m\u001b[0mspec\u001b[0m\u001b[0;34m,\u001b[0m \u001b[0mctrl\u001b[0m\u001b[0;34m)\u001b[0m\u001b[0;34m\u001b[0m\u001b[0m\n\u001b[0m\u001b[1;32m    138\u001b[0m                 \u001b[0;32mexcept\u001b[0m \u001b[0mException\u001b[0m \u001b[0;32mas\u001b[0m \u001b[0me\u001b[0m\u001b[0;34m:\u001b[0m\u001b[0;34m\u001b[0m\u001b[0m\n\u001b[1;32m    139\u001b[0m                     \u001b[0mlogger\u001b[0m\u001b[0;34m.\u001b[0m\u001b[0minfo\u001b[0m\u001b[0;34m(\u001b[0m\u001b[0;34m'job exception: %s'\u001b[0m \u001b[0;34m%\u001b[0m \u001b[0mstr\u001b[0m\u001b[0;34m(\u001b[0m\u001b[0me\u001b[0m\u001b[0;34m)\u001b[0m\u001b[0;34m)\u001b[0m\u001b[0;34m\u001b[0m\u001b[0m\n",
      "\u001b[0;32m~/anaconda3/lib/python3.6/site-packages/hyperopt/base.py\u001b[0m in \u001b[0;36mevaluate\u001b[0;34m(self, config, ctrl, attach_attachments)\u001b[0m\n\u001b[1;32m    838\u001b[0m                 \u001b[0mmemo\u001b[0m\u001b[0;34m=\u001b[0m\u001b[0mmemo\u001b[0m\u001b[0;34m,\u001b[0m\u001b[0;34m\u001b[0m\u001b[0m\n\u001b[1;32m    839\u001b[0m                 print_node_on_error=self.rec_eval_print_node_on_error)\n\u001b[0;32m--> 840\u001b[0;31m             \u001b[0mrval\u001b[0m \u001b[0;34m=\u001b[0m \u001b[0mself\u001b[0m\u001b[0;34m.\u001b[0m\u001b[0mfn\u001b[0m\u001b[0;34m(\u001b[0m\u001b[0mpyll_rval\u001b[0m\u001b[0;34m)\u001b[0m\u001b[0;34m\u001b[0m\u001b[0m\n\u001b[0m\u001b[1;32m    841\u001b[0m \u001b[0;34m\u001b[0m\u001b[0m\n\u001b[1;32m    842\u001b[0m         \u001b[0;32mif\u001b[0m \u001b[0misinstance\u001b[0m\u001b[0;34m(\u001b[0m\u001b[0mrval\u001b[0m\u001b[0;34m,\u001b[0m \u001b[0;34m(\u001b[0m\u001b[0mfloat\u001b[0m\u001b[0;34m,\u001b[0m \u001b[0mint\u001b[0m\u001b[0;34m,\u001b[0m \u001b[0mnp\u001b[0m\u001b[0;34m.\u001b[0m\u001b[0mnumber\u001b[0m\u001b[0;34m)\u001b[0m\u001b[0;34m)\u001b[0m\u001b[0;34m:\u001b[0m\u001b[0;34m\u001b[0m\u001b[0m\n",
      "\u001b[0;32m<ipython-input-35-60d49fd2f3b5>\u001b[0m in \u001b[0;36mtrain_xg_boost\u001b[0;34m(params)\u001b[0m\n\u001b[1;32m     12\u001b[0m     \u001b[0;31m# In[ ]:\u001b[0m\u001b[0;34m\u001b[0m\u001b[0;34m\u001b[0m\u001b[0m\n\u001b[1;32m     13\u001b[0m \u001b[0;34m\u001b[0m\u001b[0m\n\u001b[0;32m---> 14\u001b[0;31m     \u001b[0mxg_model\u001b[0m\u001b[0;34m.\u001b[0m\u001b[0mfit\u001b[0m\u001b[0;34m(\u001b[0m\u001b[0mX_train\u001b[0m\u001b[0;34m.\u001b[0m\u001b[0mvalues\u001b[0m\u001b[0;34m,\u001b[0m \u001b[0my_train\u001b[0m\u001b[0;34m.\u001b[0m\u001b[0mvalues\u001b[0m\u001b[0;34m)\u001b[0m\u001b[0;34m\u001b[0m\u001b[0m\n\u001b[0m\u001b[1;32m     15\u001b[0m \u001b[0;34m\u001b[0m\u001b[0m\n\u001b[1;32m     16\u001b[0m     \u001b[0;31m# In[68]:\u001b[0m\u001b[0;34m\u001b[0m\u001b[0;34m\u001b[0m\u001b[0m\n",
      "\u001b[0;32m~/anaconda3/lib/python3.6/site-packages/xgboost/sklearn.py\u001b[0m in \u001b[0;36mfit\u001b[0;34m(self, X, y, sample_weight, eval_set, eval_metric, early_stopping_rounds, verbose, xgb_model, sample_weight_eval_set)\u001b[0m\n\u001b[1;32m    322\u001b[0m                               \u001b[0mearly_stopping_rounds\u001b[0m\u001b[0;34m=\u001b[0m\u001b[0mearly_stopping_rounds\u001b[0m\u001b[0;34m,\u001b[0m\u001b[0;34m\u001b[0m\u001b[0m\n\u001b[1;32m    323\u001b[0m                               \u001b[0mevals_result\u001b[0m\u001b[0;34m=\u001b[0m\u001b[0mevals_result\u001b[0m\u001b[0;34m,\u001b[0m \u001b[0mobj\u001b[0m\u001b[0;34m=\u001b[0m\u001b[0mobj\u001b[0m\u001b[0;34m,\u001b[0m \u001b[0mfeval\u001b[0m\u001b[0;34m=\u001b[0m\u001b[0mfeval\u001b[0m\u001b[0;34m,\u001b[0m\u001b[0;34m\u001b[0m\u001b[0m\n\u001b[0;32m--> 324\u001b[0;31m                               verbose_eval=verbose, xgb_model=xgb_model)\n\u001b[0m\u001b[1;32m    325\u001b[0m \u001b[0;34m\u001b[0m\u001b[0m\n\u001b[1;32m    326\u001b[0m         \u001b[0;32mif\u001b[0m \u001b[0mevals_result\u001b[0m\u001b[0;34m:\u001b[0m\u001b[0;34m\u001b[0m\u001b[0m\n",
      "\u001b[0;32m~/anaconda3/lib/python3.6/site-packages/xgboost/training.py\u001b[0m in \u001b[0;36mtrain\u001b[0;34m(params, dtrain, num_boost_round, evals, obj, feval, maximize, early_stopping_rounds, evals_result, verbose_eval, xgb_model, callbacks, learning_rates)\u001b[0m\n\u001b[1;32m    202\u001b[0m                            \u001b[0mevals\u001b[0m\u001b[0;34m=\u001b[0m\u001b[0mevals\u001b[0m\u001b[0;34m,\u001b[0m\u001b[0;34m\u001b[0m\u001b[0m\n\u001b[1;32m    203\u001b[0m                            \u001b[0mobj\u001b[0m\u001b[0;34m=\u001b[0m\u001b[0mobj\u001b[0m\u001b[0;34m,\u001b[0m \u001b[0mfeval\u001b[0m\u001b[0;34m=\u001b[0m\u001b[0mfeval\u001b[0m\u001b[0;34m,\u001b[0m\u001b[0;34m\u001b[0m\u001b[0m\n\u001b[0;32m--> 204\u001b[0;31m                            xgb_model=xgb_model, callbacks=callbacks)\n\u001b[0m\u001b[1;32m    205\u001b[0m \u001b[0;34m\u001b[0m\u001b[0m\n\u001b[1;32m    206\u001b[0m \u001b[0;34m\u001b[0m\u001b[0m\n",
      "\u001b[0;32m~/anaconda3/lib/python3.6/site-packages/xgboost/training.py\u001b[0m in \u001b[0;36m_train_internal\u001b[0;34m(params, dtrain, num_boost_round, evals, obj, feval, xgb_model, callbacks)\u001b[0m\n\u001b[1;32m     72\u001b[0m         \u001b[0;31m# Skip the first update if it is a recovery step.\u001b[0m\u001b[0;34m\u001b[0m\u001b[0;34m\u001b[0m\u001b[0m\n\u001b[1;32m     73\u001b[0m         \u001b[0;32mif\u001b[0m \u001b[0mversion\u001b[0m \u001b[0;34m%\u001b[0m \u001b[0;36m2\u001b[0m \u001b[0;34m==\u001b[0m \u001b[0;36m0\u001b[0m\u001b[0;34m:\u001b[0m\u001b[0;34m\u001b[0m\u001b[0m\n\u001b[0;32m---> 74\u001b[0;31m             \u001b[0mbst\u001b[0m\u001b[0;34m.\u001b[0m\u001b[0mupdate\u001b[0m\u001b[0;34m(\u001b[0m\u001b[0mdtrain\u001b[0m\u001b[0;34m,\u001b[0m \u001b[0mi\u001b[0m\u001b[0;34m,\u001b[0m \u001b[0mobj\u001b[0m\u001b[0;34m)\u001b[0m\u001b[0;34m\u001b[0m\u001b[0m\n\u001b[0m\u001b[1;32m     75\u001b[0m             \u001b[0mbst\u001b[0m\u001b[0;34m.\u001b[0m\u001b[0msave_rabit_checkpoint\u001b[0m\u001b[0;34m(\u001b[0m\u001b[0;34m)\u001b[0m\u001b[0;34m\u001b[0m\u001b[0m\n\u001b[1;32m     76\u001b[0m             \u001b[0mversion\u001b[0m \u001b[0;34m+=\u001b[0m \u001b[0;36m1\u001b[0m\u001b[0;34m\u001b[0m\u001b[0m\n",
      "\u001b[0;32m~/anaconda3/lib/python3.6/site-packages/xgboost/core.py\u001b[0m in \u001b[0;36mupdate\u001b[0;34m(self, dtrain, iteration, fobj)\u001b[0m\n\u001b[1;32m   1019\u001b[0m         \u001b[0;32mif\u001b[0m \u001b[0mfobj\u001b[0m \u001b[0;32mis\u001b[0m \u001b[0;32mNone\u001b[0m\u001b[0;34m:\u001b[0m\u001b[0;34m\u001b[0m\u001b[0m\n\u001b[1;32m   1020\u001b[0m             _check_call(_LIB.XGBoosterUpdateOneIter(self.handle, ctypes.c_int(iteration),\n\u001b[0;32m-> 1021\u001b[0;31m                                                     dtrain.handle))\n\u001b[0m\u001b[1;32m   1022\u001b[0m         \u001b[0;32melse\u001b[0m\u001b[0;34m:\u001b[0m\u001b[0;34m\u001b[0m\u001b[0m\n\u001b[1;32m   1023\u001b[0m             \u001b[0mpred\u001b[0m \u001b[0;34m=\u001b[0m \u001b[0mself\u001b[0m\u001b[0;34m.\u001b[0m\u001b[0mpredict\u001b[0m\u001b[0;34m(\u001b[0m\u001b[0mdtrain\u001b[0m\u001b[0;34m)\u001b[0m\u001b[0;34m\u001b[0m\u001b[0m\n",
      "\u001b[0;31mKeyboardInterrupt\u001b[0m: "
     ]
    }
   ],
   "source": [
    "best = fmin(fn=train_xg_boost, space=space, algo=tpe.suggest,max_evals=100,trials=trials)\n",
    "\n"
   ]
  },
  {
   "cell_type": "code",
   "execution_count": null,
   "metadata": {},
   "outputs": [],
   "source": []
  }
 ],
 "metadata": {
  "kernelspec": {
   "display_name": "Python 3",
   "language": "python",
   "name": "python3"
  },
  "language_info": {
   "codemirror_mode": {
    "name": "ipython",
    "version": 3
   },
   "file_extension": ".py",
   "mimetype": "text/x-python",
   "name": "python",
   "nbconvert_exporter": "python",
   "pygments_lexer": "ipython3",
   "version": "3.6.5"
  }
 },
 "nbformat": 4,
 "nbformat_minor": 2
}
